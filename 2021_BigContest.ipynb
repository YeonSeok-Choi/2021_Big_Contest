{
 "cells": [
  {
   "cell_type": "code",
   "execution_count": 1,
   "metadata": {},
   "outputs": [],
   "source": [
    "# import os\n",
    "# os.chdir('C:/Users/user/Desktop/빅콘테스트')"
   ]
  },
  {
   "cell_type": "code",
   "execution_count": 2,
   "metadata": {},
   "outputs": [
    {
     "name": "stderr",
     "output_type": "stream",
     "text": [
      "C:\\Users\\GaeJu\\anaconda3\\lib\\site-packages\\pandas\\core\\frame.py:3990: SettingWithCopyWarning: \n",
      "A value is trying to be set on a copy of a slice from a DataFrame\n",
      "\n",
      "See the caveats in the documentation: https://pandas.pydata.org/pandas-docs/stable/user_guide/indexing.html#returning-a-view-versus-a-copy\n",
      "  return super().drop(\n",
      "<ipython-input-2-9e9a0668591e>:36: SettingWithCopyWarning: \n",
      "A value is trying to be set on a copy of a slice from a DataFrame.\n",
      "Try using .loc[row_indexer,col_indexer] = value instead\n",
      "\n",
      "See the caveats in the documentation: https://pandas.pydata.org/pandas-docs/stable/user_guide/indexing.html#returning-a-view-versus-a-copy\n",
      "  salmon['REG_DATE']=pd.to_datetime(salmon['REG_DATE'], format='%Y-%m-%d')\n"
     ]
    }
   ],
   "source": [
    "import pandas as pd\n",
    "import numpy as np\n",
    "from pandas import Series, DataFrame\n",
    "from numpy import nan as NA\n",
    "from datetime import datetime\n",
    "import matplotlib.pyplot as plt\n",
    "\n",
    "data = pd.read_excel('수산Biz_데이터.xlsx')\n",
    "salmon = data[data[\"P_NAME\"] == '연어']\n",
    "squid = data[data[\"P_NAME\"] == '오징어']\n",
    "white_shrimp = data[data[\"P_NAME\"] == '흰다리새우']\n",
    "\n",
    "\n",
    "def get_outlier(df=None, column=None, weight=1.5):\n",
    "  # target 값과 상관관계가 높은 열을 우선적으로 진행\n",
    "    quantile_25 = np.percentile(df[column].values, 25)\n",
    "    quantile_75 = np.percentile(df[column].values, 75)\n",
    "\n",
    "    IQR = quantile_75 - quantile_25\n",
    "    IQR_weight = IQR*weight\n",
    "  \n",
    "    lowest = quantile_25 - IQR_weight\n",
    "    highest = quantile_75 + IQR_weight\n",
    "  \n",
    "    outlier_idx = df[column][ (df[column] < lowest) | (df[column] > highest) ].index\n",
    "    return outlier_idx\n",
    "\n",
    "# 함수 사용해서 이상치 값 삭제\n",
    "outlier_idx = get_outlier(df=salmon, column='P_PRICE', weight=1.5)\n",
    "salmon.drop(outlier_idx, axis=0, inplace=True)\n",
    "outlier_idx = get_outlier(df=squid, column='P_PRICE', weight=1.5)\n",
    "squid.drop(outlier_idx, axis=0, inplace=True)\n",
    "outlier_idx = get_outlier(df=white_shrimp, column='P_PRICE', weight=1.5)\n",
    "white_shrimp.drop(outlier_idx, axis=0, inplace=True)\n",
    "\n",
    "salmon['REG_DATE']=pd.to_datetime(salmon['REG_DATE'], format='%Y-%m-%d')\n",
    "a= salmon.groupby(salmon['REG_DATE']).mean()\n",
    "salmon = pd.merge(salmon, a, on='REG_DATE', how='left')\n",
    "salmon.rename(columns={'P_PRICE_x':'P_PRICE'}, inplace=True)\n",
    "salmon.rename(columns={'P_PRICE_y':'MEAN_PRICE'}, inplace=True)\n",
    "salmon['DAY'] = salmon['REG_DATE'].dt.month\n",
    "a = salmon.groupby(salmon['REG_DATE'].dt.strftime(\"%m\")).mean()\n",
    "del a['MEAN_PRICE']\n",
    "a.rename(columns={'P_PRICE':'M_MEAN_PRICE'}, inplace=True)\n",
    "salmon = pd.merge(salmon, a, on='DAY', how='left')\n",
    "salmon.head()\n",
    "b= salmon['P_PRICE'].groupby(salmon['P_IMPORT_TYPE']).mean()\n",
    "salmon = pd.merge(salmon, b, on='P_IMPORT_TYPE', how='left')\n",
    "salmon.rename(columns={'P_PRICE_y':'IMPORT_MEAN_PRICE'}, inplace=True)\n",
    "salmon.rename(columns={'P_PRICE_x':'P_PRICE'}, inplace=True)"
   ]
  },
  {
   "cell_type": "code",
   "execution_count": 3,
   "metadata": {},
   "outputs": [],
   "source": [
    "c= salmon['P_PRICE'].groupby(salmon['REG_DATE']).median()\n",
    "salmon = pd.merge(salmon, c, on='REG_DATE', how='left')\n",
    "salmon.rename(columns={'P_PRICE_y':'MEDIAN'}, inplace=True)\n",
    "salmon.rename(columns={'P_PRICE_x':'P_PRICE'}, inplace=True)"
   ]
  },
  {
   "cell_type": "code",
   "execution_count": 4,
   "metadata": {},
   "outputs": [
    {
     "data": {
      "text/html": [
       "<div>\n",
       "<style scoped>\n",
       "    .dataframe tbody tr th:only-of-type {\n",
       "        vertical-align: middle;\n",
       "    }\n",
       "\n",
       "    .dataframe tbody tr th {\n",
       "        vertical-align: top;\n",
       "    }\n",
       "\n",
       "    .dataframe thead th {\n",
       "        text-align: right;\n",
       "    }\n",
       "</style>\n",
       "<table border=\"1\" class=\"dataframe\">\n",
       "  <thead>\n",
       "    <tr style=\"text-align: right;\">\n",
       "      <th></th>\n",
       "      <th>REG_DATE</th>\n",
       "      <th>P_TYPE</th>\n",
       "      <th>CTRY_1</th>\n",
       "      <th>CTRY_2</th>\n",
       "      <th>P_PURPOSE</th>\n",
       "      <th>CATEGORY_1</th>\n",
       "      <th>CATEGORY_2</th>\n",
       "      <th>P_NAME</th>\n",
       "      <th>P_IMPORT_TYPE</th>\n",
       "      <th>P_PRICE</th>\n",
       "      <th>MEAN_PRICE</th>\n",
       "      <th>DAY</th>\n",
       "      <th>M_MEAN_PRICE</th>\n",
       "      <th>IMPORT_MEAN_PRICE</th>\n",
       "      <th>MEDIAN</th>\n",
       "    </tr>\n",
       "  </thead>\n",
       "  <tbody>\n",
       "    <tr>\n",
       "      <th>0</th>\n",
       "      <td>2015-12-28</td>\n",
       "      <td>수산물</td>\n",
       "      <td>노르웨이</td>\n",
       "      <td>노르웨이</td>\n",
       "      <td>판매용</td>\n",
       "      <td>어류</td>\n",
       "      <td>연어</td>\n",
       "      <td>연어</td>\n",
       "      <td>냉장,필렛(F)</td>\n",
       "      <td>12.936815</td>\n",
       "      <td>13.287212</td>\n",
       "      <td>12</td>\n",
       "      <td>12.773497</td>\n",
       "      <td>14.569838</td>\n",
       "      <td>12.936815</td>\n",
       "    </tr>\n",
       "    <tr>\n",
       "      <th>1</th>\n",
       "      <td>2015-12-28</td>\n",
       "      <td>수산물</td>\n",
       "      <td>노르웨이</td>\n",
       "      <td>노르웨이</td>\n",
       "      <td>판매용</td>\n",
       "      <td>어류</td>\n",
       "      <td>연어</td>\n",
       "      <td>연어</td>\n",
       "      <td>냉장,포장횟감,필렛(F)</td>\n",
       "      <td>19.146755</td>\n",
       "      <td>13.287212</td>\n",
       "      <td>12</td>\n",
       "      <td>12.773497</td>\n",
       "      <td>18.819085</td>\n",
       "      <td>12.936815</td>\n",
       "    </tr>\n",
       "    <tr>\n",
       "      <th>2</th>\n",
       "      <td>2015-12-28</td>\n",
       "      <td>수산물</td>\n",
       "      <td>노르웨이</td>\n",
       "      <td>노르웨이</td>\n",
       "      <td>판매용</td>\n",
       "      <td>어류</td>\n",
       "      <td>연어</td>\n",
       "      <td>연어</td>\n",
       "      <td>냉장,필렛(F),횟감</td>\n",
       "      <td>12.082384</td>\n",
       "      <td>13.287212</td>\n",
       "      <td>12</td>\n",
       "      <td>12.773497</td>\n",
       "      <td>14.822066</td>\n",
       "      <td>12.936815</td>\n",
       "    </tr>\n",
       "    <tr>\n",
       "      <th>3</th>\n",
       "      <td>2015-12-28</td>\n",
       "      <td>수산물</td>\n",
       "      <td>노르웨이</td>\n",
       "      <td>노르웨이</td>\n",
       "      <td>자사제품제조용</td>\n",
       "      <td>어류</td>\n",
       "      <td>연어</td>\n",
       "      <td>연어</td>\n",
       "      <td>냉장,필렛(F)</td>\n",
       "      <td>13.425826</td>\n",
       "      <td>13.287212</td>\n",
       "      <td>12</td>\n",
       "      <td>12.773497</td>\n",
       "      <td>14.569838</td>\n",
       "      <td>12.936815</td>\n",
       "    </tr>\n",
       "    <tr>\n",
       "      <th>4</th>\n",
       "      <td>2015-12-28</td>\n",
       "      <td>수산물</td>\n",
       "      <td>노르웨이</td>\n",
       "      <td>노르웨이</td>\n",
       "      <td>판매용</td>\n",
       "      <td>어류</td>\n",
       "      <td>연어</td>\n",
       "      <td>연어</td>\n",
       "      <td>냉장</td>\n",
       "      <td>8.844281</td>\n",
       "      <td>13.287212</td>\n",
       "      <td>12</td>\n",
       "      <td>12.773497</td>\n",
       "      <td>10.262783</td>\n",
       "      <td>12.936815</td>\n",
       "    </tr>\n",
       "  </tbody>\n",
       "</table>\n",
       "</div>"
      ],
      "text/plain": [
       "    REG_DATE P_TYPE CTRY_1 CTRY_2 P_PURPOSE CATEGORY_1 CATEGORY_2 P_NAME  \\\n",
       "0 2015-12-28    수산물   노르웨이   노르웨이       판매용         어류         연어     연어   \n",
       "1 2015-12-28    수산물   노르웨이   노르웨이       판매용         어류         연어     연어   \n",
       "2 2015-12-28    수산물   노르웨이   노르웨이       판매용         어류         연어     연어   \n",
       "3 2015-12-28    수산물   노르웨이   노르웨이   자사제품제조용         어류         연어     연어   \n",
       "4 2015-12-28    수산물   노르웨이   노르웨이       판매용         어류         연어     연어   \n",
       "\n",
       "   P_IMPORT_TYPE    P_PRICE  MEAN_PRICE  DAY  M_MEAN_PRICE  IMPORT_MEAN_PRICE  \\\n",
       "0       냉장,필렛(F)  12.936815   13.287212   12     12.773497          14.569838   \n",
       "1  냉장,포장횟감,필렛(F)  19.146755   13.287212   12     12.773497          18.819085   \n",
       "2    냉장,필렛(F),횟감  12.082384   13.287212   12     12.773497          14.822066   \n",
       "3       냉장,필렛(F)  13.425826   13.287212   12     12.773497          14.569838   \n",
       "4             냉장   8.844281   13.287212   12     12.773497          10.262783   \n",
       "\n",
       "      MEDIAN  \n",
       "0  12.936815  \n",
       "1  12.936815  \n",
       "2  12.936815  \n",
       "3  12.936815  \n",
       "4  12.936815  "
      ]
     },
     "execution_count": 4,
     "metadata": {},
     "output_type": "execute_result"
    }
   ],
   "source": [
    "salmon.head()"
   ]
  },
  {
   "cell_type": "code",
   "execution_count": 5,
   "metadata": {
    "scrolled": true
   },
   "outputs": [
    {
     "name": "stderr",
     "output_type": "stream",
     "text": [
      "<ipython-input-5-69575741f633>:1: SettingWithCopyWarning: \n",
      "A value is trying to be set on a copy of a slice from a DataFrame.\n",
      "Try using .loc[row_indexer,col_indexer] = value instead\n",
      "\n",
      "See the caveats in the documentation: https://pandas.pydata.org/pandas-docs/stable/user_guide/indexing.html#returning-a-view-versus-a-copy\n",
      "  squid['REG_DATE']=pd.to_datetime(squid['REG_DATE'], format='%Y-%m-%d')\n"
     ]
    }
   ],
   "source": [
    "squid['REG_DATE']=pd.to_datetime(squid['REG_DATE'], format='%Y-%m-%d')\n",
    "a= squid.groupby(squid['REG_DATE']).mean()\n",
    "squid = pd.merge(squid, a, on='REG_DATE', how='left')\n",
    "squid.rename(columns={'P_PRICE_x':'P_PRICE'}, inplace=True)\n",
    "squid.rename(columns={'P_PRICE_y':'MEAN_PRICE'}, inplace=True)\n",
    "squid['DAY'] = squid['REG_DATE'].dt.month\n",
    "a = squid.groupby(squid['REG_DATE'].dt.strftime(\"%m\")).mean()\n",
    "del a['MEAN_PRICE']\n",
    "a.rename(columns={'P_PRICE':'M_MEAN_PRICE'}, inplace=True)\n",
    "squid = pd.merge(squid, a, on='DAY', how='left')\n",
    "squid.head()\n",
    "b= squid['P_PRICE'].groupby(squid['P_IMPORT_TYPE']).mean()\n",
    "squid = pd.merge(squid, b, on='P_IMPORT_TYPE', how='left')\n",
    "squid.rename(columns={'P_PRICE_y':'IMPORT_MEAN_PRICE'}, inplace=True)\n",
    "squid.rename(columns={'P_PRICE_x':'P_PRICE'}, inplace=True)"
   ]
  },
  {
   "cell_type": "code",
   "execution_count": 6,
   "metadata": {},
   "outputs": [
    {
     "data": {
      "text/html": [
       "<div>\n",
       "<style scoped>\n",
       "    .dataframe tbody tr th:only-of-type {\n",
       "        vertical-align: middle;\n",
       "    }\n",
       "\n",
       "    .dataframe tbody tr th {\n",
       "        vertical-align: top;\n",
       "    }\n",
       "\n",
       "    .dataframe thead th {\n",
       "        text-align: right;\n",
       "    }\n",
       "</style>\n",
       "<table border=\"1\" class=\"dataframe\">\n",
       "  <thead>\n",
       "    <tr style=\"text-align: right;\">\n",
       "      <th></th>\n",
       "      <th>REG_DATE</th>\n",
       "      <th>P_TYPE</th>\n",
       "      <th>CTRY_1</th>\n",
       "      <th>CTRY_2</th>\n",
       "      <th>P_PURPOSE</th>\n",
       "      <th>CATEGORY_1</th>\n",
       "      <th>CATEGORY_2</th>\n",
       "      <th>P_NAME</th>\n",
       "      <th>P_IMPORT_TYPE</th>\n",
       "      <th>P_PRICE</th>\n",
       "      <th>MEAN_PRICE</th>\n",
       "      <th>DAY</th>\n",
       "      <th>M_MEAN_PRICE</th>\n",
       "      <th>IMPORT_MEAN_PRICE</th>\n",
       "    </tr>\n",
       "  </thead>\n",
       "  <tbody>\n",
       "    <tr>\n",
       "      <th>0</th>\n",
       "      <td>2015-12-28</td>\n",
       "      <td>수산물</td>\n",
       "      <td>대만</td>\n",
       "      <td>대만</td>\n",
       "      <td>판매용</td>\n",
       "      <td>연체류 해물모듬</td>\n",
       "      <td>오징어</td>\n",
       "      <td>오징어</td>\n",
       "      <td>냉동,동체</td>\n",
       "      <td>1.989999</td>\n",
       "      <td>1.741647</td>\n",
       "      <td>12</td>\n",
       "      <td>2.613154</td>\n",
       "      <td>2.110168</td>\n",
       "    </tr>\n",
       "    <tr>\n",
       "      <th>1</th>\n",
       "      <td>2015-12-28</td>\n",
       "      <td>수산물</td>\n",
       "      <td>중국</td>\n",
       "      <td>중국</td>\n",
       "      <td>판매용</td>\n",
       "      <td>연체류 해물모듬</td>\n",
       "      <td>오징어</td>\n",
       "      <td>오징어</td>\n",
       "      <td>냉동,동체</td>\n",
       "      <td>0.793729</td>\n",
       "      <td>1.741647</td>\n",
       "      <td>12</td>\n",
       "      <td>2.613154</td>\n",
       "      <td>2.110168</td>\n",
       "    </tr>\n",
       "    <tr>\n",
       "      <th>2</th>\n",
       "      <td>2015-12-28</td>\n",
       "      <td>수산물</td>\n",
       "      <td>페루</td>\n",
       "      <td>페루</td>\n",
       "      <td>판매용</td>\n",
       "      <td>연체류 해물모듬</td>\n",
       "      <td>오징어</td>\n",
       "      <td>오징어</td>\n",
       "      <td>냉동,다리</td>\n",
       "      <td>1.233434</td>\n",
       "      <td>1.741647</td>\n",
       "      <td>12</td>\n",
       "      <td>2.613154</td>\n",
       "      <td>1.753472</td>\n",
       "    </tr>\n",
       "    <tr>\n",
       "      <th>3</th>\n",
       "      <td>2015-12-28</td>\n",
       "      <td>수산물</td>\n",
       "      <td>페루</td>\n",
       "      <td>페루</td>\n",
       "      <td>판매용</td>\n",
       "      <td>연체류 해물모듬</td>\n",
       "      <td>오징어</td>\n",
       "      <td>오징어</td>\n",
       "      <td>냉동,동체,자숙</td>\n",
       "      <td>5.481140</td>\n",
       "      <td>1.741647</td>\n",
       "      <td>12</td>\n",
       "      <td>2.613154</td>\n",
       "      <td>4.492923</td>\n",
       "    </tr>\n",
       "    <tr>\n",
       "      <th>4</th>\n",
       "      <td>2015-12-28</td>\n",
       "      <td>수산물</td>\n",
       "      <td>칠레</td>\n",
       "      <td>칠레</td>\n",
       "      <td>판매용</td>\n",
       "      <td>연체류 해물모듬</td>\n",
       "      <td>오징어</td>\n",
       "      <td>오징어</td>\n",
       "      <td>냉동,다리</td>\n",
       "      <td>0.968083</td>\n",
       "      <td>1.741647</td>\n",
       "      <td>12</td>\n",
       "      <td>2.613154</td>\n",
       "      <td>1.753472</td>\n",
       "    </tr>\n",
       "  </tbody>\n",
       "</table>\n",
       "</div>"
      ],
      "text/plain": [
       "    REG_DATE P_TYPE CTRY_1 CTRY_2 P_PURPOSE CATEGORY_1 CATEGORY_2 P_NAME  \\\n",
       "0 2015-12-28    수산물     대만     대만       판매용   연체류 해물모듬        오징어    오징어   \n",
       "1 2015-12-28    수산물     중국     중국       판매용   연체류 해물모듬        오징어    오징어   \n",
       "2 2015-12-28    수산물     페루     페루       판매용   연체류 해물모듬        오징어    오징어   \n",
       "3 2015-12-28    수산물     페루     페루       판매용   연체류 해물모듬        오징어    오징어   \n",
       "4 2015-12-28    수산물     칠레     칠레       판매용   연체류 해물모듬        오징어    오징어   \n",
       "\n",
       "  P_IMPORT_TYPE   P_PRICE  MEAN_PRICE  DAY  M_MEAN_PRICE  IMPORT_MEAN_PRICE  \n",
       "0         냉동,동체  1.989999    1.741647   12      2.613154           2.110168  \n",
       "1         냉동,동체  0.793729    1.741647   12      2.613154           2.110168  \n",
       "2         냉동,다리  1.233434    1.741647   12      2.613154           1.753472  \n",
       "3      냉동,동체,자숙  5.481140    1.741647   12      2.613154           4.492923  \n",
       "4         냉동,다리  0.968083    1.741647   12      2.613154           1.753472  "
      ]
     },
     "execution_count": 6,
     "metadata": {},
     "output_type": "execute_result"
    }
   ],
   "source": [
    "squid.head()"
   ]
  },
  {
   "cell_type": "code",
   "execution_count": 7,
   "metadata": {
    "scrolled": true
   },
   "outputs": [
    {
     "name": "stderr",
     "output_type": "stream",
     "text": [
      "<ipython-input-7-7be9d3c7c59a>:1: SettingWithCopyWarning: \n",
      "A value is trying to be set on a copy of a slice from a DataFrame.\n",
      "Try using .loc[row_indexer,col_indexer] = value instead\n",
      "\n",
      "See the caveats in the documentation: https://pandas.pydata.org/pandas-docs/stable/user_guide/indexing.html#returning-a-view-versus-a-copy\n",
      "  white_shrimp['REG_DATE']=pd.to_datetime(white_shrimp['REG_DATE'], format='%Y-%m-%d')\n"
     ]
    }
   ],
   "source": [
    "white_shrimp['REG_DATE']=pd.to_datetime(white_shrimp['REG_DATE'], format='%Y-%m-%d')\n",
    "a= white_shrimp.groupby(white_shrimp['REG_DATE']).mean()\n",
    "white_shrimp = pd.merge(white_shrimp, a, on='REG_DATE', how='left')\n",
    "white_shrimp.rename(columns={'P_PRICE_x':'P_PRICE'}, inplace=True)\n",
    "white_shrimp.rename(columns={'P_PRICE_y':'MEAN_PRICE'}, inplace=True)\n",
    "white_shrimp['DAY'] = white_shrimp['REG_DATE'].dt.month\n",
    "a = white_shrimp.groupby(white_shrimp['REG_DATE'].dt.strftime(\"%m\")).mean()\n",
    "del a['MEAN_PRICE']\n",
    "a.rename(columns={'P_PRICE':'M_MEAN_PRICE'}, inplace=True)\n",
    "white_shrimp = pd.merge(white_shrimp, a, on='DAY', how='left')\n",
    "white_shrimp.head()\n",
    "b= white_shrimp['P_PRICE'].groupby(white_shrimp['P_IMPORT_TYPE']).mean()\n",
    "white_shrimp = pd.merge(white_shrimp, b, on='P_IMPORT_TYPE', how='left')\n",
    "white_shrimp.rename(columns={'P_PRICE_y':'IMPORT_MEAN_PRICE'}, inplace=True)\n",
    "white_shrimp.rename(columns={'P_PRICE_x':'P_PRICE'}, inplace=True)"
   ]
  },
  {
   "cell_type": "code",
   "execution_count": 8,
   "metadata": {},
   "outputs": [
    {
     "data": {
      "text/html": [
       "<div>\n",
       "<style scoped>\n",
       "    .dataframe tbody tr th:only-of-type {\n",
       "        vertical-align: middle;\n",
       "    }\n",
       "\n",
       "    .dataframe tbody tr th {\n",
       "        vertical-align: top;\n",
       "    }\n",
       "\n",
       "    .dataframe thead th {\n",
       "        text-align: right;\n",
       "    }\n",
       "</style>\n",
       "<table border=\"1\" class=\"dataframe\">\n",
       "  <thead>\n",
       "    <tr style=\"text-align: right;\">\n",
       "      <th></th>\n",
       "      <th>REG_DATE</th>\n",
       "      <th>P_TYPE</th>\n",
       "      <th>CTRY_1</th>\n",
       "      <th>CTRY_2</th>\n",
       "      <th>P_PURPOSE</th>\n",
       "      <th>CATEGORY_1</th>\n",
       "      <th>CATEGORY_2</th>\n",
       "      <th>P_NAME</th>\n",
       "      <th>P_IMPORT_TYPE</th>\n",
       "      <th>P_PRICE</th>\n",
       "      <th>MEAN_PRICE</th>\n",
       "      <th>DAY</th>\n",
       "      <th>M_MEAN_PRICE</th>\n",
       "      <th>IMPORT_MEAN_PRICE</th>\n",
       "    </tr>\n",
       "  </thead>\n",
       "  <tbody>\n",
       "    <tr>\n",
       "      <th>0</th>\n",
       "      <td>2015-12-28</td>\n",
       "      <td>수산물</td>\n",
       "      <td>중국</td>\n",
       "      <td>중국</td>\n",
       "      <td>판매용</td>\n",
       "      <td>갑각류</td>\n",
       "      <td>새우</td>\n",
       "      <td>흰다리새우</td>\n",
       "      <td>냉동,살,자숙</td>\n",
       "      <td>7.202863</td>\n",
       "      <td>9.227891</td>\n",
       "      <td>12</td>\n",
       "      <td>9.498164</td>\n",
       "      <td>9.678774</td>\n",
       "    </tr>\n",
       "    <tr>\n",
       "      <th>1</th>\n",
       "      <td>2015-12-28</td>\n",
       "      <td>수산물</td>\n",
       "      <td>중국</td>\n",
       "      <td>중국</td>\n",
       "      <td>판매용</td>\n",
       "      <td>갑각류</td>\n",
       "      <td>새우</td>\n",
       "      <td>흰다리새우</td>\n",
       "      <td>냉동,살</td>\n",
       "      <td>6.972132</td>\n",
       "      <td>9.227891</td>\n",
       "      <td>12</td>\n",
       "      <td>9.498164</td>\n",
       "      <td>9.211613</td>\n",
       "    </tr>\n",
       "    <tr>\n",
       "      <th>2</th>\n",
       "      <td>2015-12-28</td>\n",
       "      <td>수산물</td>\n",
       "      <td>페루</td>\n",
       "      <td>페루</td>\n",
       "      <td>판매용</td>\n",
       "      <td>갑각류</td>\n",
       "      <td>새우</td>\n",
       "      <td>흰다리새우</td>\n",
       "      <td>냉동</td>\n",
       "      <td>6.100000</td>\n",
       "      <td>9.227891</td>\n",
       "      <td>12</td>\n",
       "      <td>9.498164</td>\n",
       "      <td>7.404033</td>\n",
       "    </tr>\n",
       "    <tr>\n",
       "      <th>3</th>\n",
       "      <td>2015-12-28</td>\n",
       "      <td>수산물</td>\n",
       "      <td>태국</td>\n",
       "      <td>태국</td>\n",
       "      <td>판매용</td>\n",
       "      <td>갑각류</td>\n",
       "      <td>새우</td>\n",
       "      <td>흰다리새우</td>\n",
       "      <td>냉동,살,자숙</td>\n",
       "      <td>13.377047</td>\n",
       "      <td>9.227891</td>\n",
       "      <td>12</td>\n",
       "      <td>9.498164</td>\n",
       "      <td>9.678774</td>\n",
       "    </tr>\n",
       "    <tr>\n",
       "      <th>4</th>\n",
       "      <td>2015-12-28</td>\n",
       "      <td>수산물</td>\n",
       "      <td>태국</td>\n",
       "      <td>태국</td>\n",
       "      <td>판매용</td>\n",
       "      <td>갑각류</td>\n",
       "      <td>새우</td>\n",
       "      <td>흰다리새우</td>\n",
       "      <td>냉동,살</td>\n",
       "      <td>15.050566</td>\n",
       "      <td>9.227891</td>\n",
       "      <td>12</td>\n",
       "      <td>9.498164</td>\n",
       "      <td>9.211613</td>\n",
       "    </tr>\n",
       "  </tbody>\n",
       "</table>\n",
       "</div>"
      ],
      "text/plain": [
       "    REG_DATE P_TYPE CTRY_1 CTRY_2 P_PURPOSE CATEGORY_1 CATEGORY_2 P_NAME  \\\n",
       "0 2015-12-28    수산물     중국     중국       판매용        갑각류         새우  흰다리새우   \n",
       "1 2015-12-28    수산물     중국     중국       판매용        갑각류         새우  흰다리새우   \n",
       "2 2015-12-28    수산물     페루     페루       판매용        갑각류         새우  흰다리새우   \n",
       "3 2015-12-28    수산물     태국     태국       판매용        갑각류         새우  흰다리새우   \n",
       "4 2015-12-28    수산물     태국     태국       판매용        갑각류         새우  흰다리새우   \n",
       "\n",
       "  P_IMPORT_TYPE    P_PRICE  MEAN_PRICE  DAY  M_MEAN_PRICE  IMPORT_MEAN_PRICE  \n",
       "0       냉동,살,자숙   7.202863    9.227891   12      9.498164           9.678774  \n",
       "1          냉동,살   6.972132    9.227891   12      9.498164           9.211613  \n",
       "2            냉동   6.100000    9.227891   12      9.498164           7.404033  \n",
       "3       냉동,살,자숙  13.377047    9.227891   12      9.498164           9.678774  \n",
       "4          냉동,살  15.050566    9.227891   12      9.498164           9.211613  "
      ]
     },
     "execution_count": 8,
     "metadata": {},
     "output_type": "execute_result"
    }
   ],
   "source": [
    "white_shrimp.head()"
   ]
  },
  {
   "cell_type": "code",
   "execution_count": 9,
   "metadata": {},
   "outputs": [],
   "source": [
    "# metadata = pd.concat([salmon, squid, white_shrimp])\n",
    "\n",
    "from sklearn.preprocessing import LabelEncoder\n",
    "\n",
    "lb = LabelEncoder()\n",
    "salmon['P_IMPORT_TYPE']=lb.fit_transform(salmon['P_IMPORT_TYPE'])\n",
    "salmon['P_PURPOSE']=lb.fit_transform(salmon['P_PURPOSE'])\n",
    "salmon['CTRY_1']=lb.fit_transform(salmon['CTRY_1'])\n",
    "salmon['CTRY_2']=lb.fit_transform(salmon['CTRY_2'])\n",
    "salmon['CATEGORY_1']=lb.fit_transform(salmon['CATEGORY_1'])\n",
    "salmon['CATEGORY_2']=lb.fit_transform(salmon['CATEGORY_2'])\n",
    "salmon['P_NAME']=lb.fit_transform(salmon['P_NAME'])\n",
    "salmon['P_TYPE']=lb.fit_transform(salmon['P_TYPE'])\n",
    "salmon['MEAN_PRICE']=salmon['MEAN_PRICE'].apply(lambda x:round(x,3))\n",
    "salmon['M_MEAN_PRICE']=salmon['M_MEAN_PRICE'].apply(lambda x:round(x,3))\n",
    "salmon['P_PRICE']=salmon['P_PRICE'].apply(lambda x:round(x,3))\n",
    "salmon['IMPORT_MEAN_PRICE']=salmon['IMPORT_MEAN_PRICE'].apply(lambda x:round(x,3))\n",
    "\n",
    "squid['P_IMPORT_TYPE']=lb.fit_transform(squid['P_IMPORT_TYPE'])\n",
    "squid['P_PURPOSE']=lb.fit_transform(squid['P_PURPOSE'])\n",
    "squid['CTRY_1']=lb.fit_transform(squid['CTRY_1'])\n",
    "squid['CTRY_2']=lb.fit_transform(squid['CTRY_2'])\n",
    "squid['CATEGORY_1']=lb.fit_transform(squid['CATEGORY_1'])\n",
    "squid['CATEGORY_2']=lb.fit_transform(squid['CATEGORY_2'])\n",
    "squid['P_NAME']=lb.fit_transform(squid['P_NAME'])\n",
    "squid['P_TYPE']=lb.fit_transform(squid['P_TYPE'])\n",
    "squid['MEAN_PRICE']=squid['MEAN_PRICE'].apply(lambda x:round(x,3))\n",
    "squid['M_MEAN_PRICE']=squid['M_MEAN_PRICE'].apply(lambda x:round(x,3))\n",
    "squid['P_PRICE']=squid['P_PRICE'].apply(lambda x:round(x,3))\n",
    "squid['IMPORT_MEAN_PRICE']=squid['IMPORT_MEAN_PRICE'].apply(lambda x:round(x,3))\n",
    "\n",
    "white_shrimp['P_IMPORT_TYPE']=lb.fit_transform(white_shrimp['P_IMPORT_TYPE'])\n",
    "white_shrimp['P_PURPOSE']=lb.fit_transform(white_shrimp['P_PURPOSE'])\n",
    "white_shrimp['CTRY_1']=lb.fit_transform(white_shrimp['CTRY_1'])\n",
    "white_shrimp['CTRY_2']=lb.fit_transform(white_shrimp['CTRY_2'])\n",
    "white_shrimp['CATEGORY_1']=lb.fit_transform(white_shrimp['CATEGORY_1'])\n",
    "white_shrimp['CATEGORY_2']=lb.fit_transform(white_shrimp['CATEGORY_2'])\n",
    "white_shrimp['P_NAME']=lb.fit_transform(white_shrimp['P_NAME'])\n",
    "white_shrimp['P_TYPE']=lb.fit_transform(white_shrimp['P_TYPE'])\n",
    "white_shrimp['MEAN_PRICE']=white_shrimp['MEAN_PRICE'].apply(lambda x:round(x,3))\n",
    "white_shrimp['M_MEAN_PRICE']=white_shrimp['M_MEAN_PRICE'].apply(lambda x:round(x,3))\n",
    "white_shrimp['P_PRICE']=white_shrimp['P_PRICE'].apply(lambda x:round(x,3))\n",
    "white_shrimp['IMPORT_MEAN_PRICE']=white_shrimp['IMPORT_MEAN_PRICE'].apply(lambda x:round(x,3))\n",
    "\n",
    "salmon = salmon.drop_duplicates(['REG_DATE'])\n",
    "squid = squid.drop_duplicates(['REG_DATE'])\n",
    "white_shrimp = white_shrimp.drop_duplicates(['REG_DATE'])"
   ]
  },
  {
   "cell_type": "code",
   "execution_count": 10,
   "metadata": {},
   "outputs": [],
   "source": [
    "#var= ['REG_DATE','CTRY_1','CTRY_2','P_PURPOSE','CATEGORY_1','CATEGORY_2','P_NAME','P_IMPORT_TYPE','P_PRICE','MEAN_PRICE','DAY','M_MEAN_PRICE','IMPORT_MEAN_PRICE']\n",
    "var1= ['REG_DATE','MEAN_PRICE']\n",
    "x = salmon[var1]\n",
    "x.index = x['REG_DATE']\n",
    "x.set_index('REG_DATE', inplace=True)"
   ]
  },
  {
   "cell_type": "code",
   "execution_count": 11,
   "metadata": {},
   "outputs": [
    {
     "data": {
      "text/html": [
       "<div>\n",
       "<style scoped>\n",
       "    .dataframe tbody tr th:only-of-type {\n",
       "        vertical-align: middle;\n",
       "    }\n",
       "\n",
       "    .dataframe tbody tr th {\n",
       "        vertical-align: top;\n",
       "    }\n",
       "\n",
       "    .dataframe thead th {\n",
       "        text-align: right;\n",
       "    }\n",
       "</style>\n",
       "<table border=\"1\" class=\"dataframe\">\n",
       "  <thead>\n",
       "    <tr style=\"text-align: right;\">\n",
       "      <th></th>\n",
       "      <th>MEAN_PRICE</th>\n",
       "    </tr>\n",
       "    <tr>\n",
       "      <th>REG_DATE</th>\n",
       "      <th></th>\n",
       "    </tr>\n",
       "  </thead>\n",
       "  <tbody>\n",
       "    <tr>\n",
       "      <th>2015-12-28</th>\n",
       "      <td>13.287</td>\n",
       "    </tr>\n",
       "    <tr>\n",
       "      <th>2016-01-04</th>\n",
       "      <td>12.332</td>\n",
       "    </tr>\n",
       "    <tr>\n",
       "      <th>2016-01-11</th>\n",
       "      <td>12.877</td>\n",
       "    </tr>\n",
       "    <tr>\n",
       "      <th>2016-01-18</th>\n",
       "      <td>13.387</td>\n",
       "    </tr>\n",
       "    <tr>\n",
       "      <th>2016-01-25</th>\n",
       "      <td>12.644</td>\n",
       "    </tr>\n",
       "    <tr>\n",
       "      <th>...</th>\n",
       "      <td>...</td>\n",
       "    </tr>\n",
       "    <tr>\n",
       "      <th>2019-12-02</th>\n",
       "      <td>11.804</td>\n",
       "    </tr>\n",
       "    <tr>\n",
       "      <th>2019-12-09</th>\n",
       "      <td>13.609</td>\n",
       "    </tr>\n",
       "    <tr>\n",
       "      <th>2019-12-16</th>\n",
       "      <td>14.339</td>\n",
       "    </tr>\n",
       "    <tr>\n",
       "      <th>2019-12-23</th>\n",
       "      <td>13.877</td>\n",
       "    </tr>\n",
       "    <tr>\n",
       "      <th>2019-12-30</th>\n",
       "      <td>14.379</td>\n",
       "    </tr>\n",
       "  </tbody>\n",
       "</table>\n",
       "<p>210 rows × 1 columns</p>\n",
       "</div>"
      ],
      "text/plain": [
       "            MEAN_PRICE\n",
       "REG_DATE              \n",
       "2015-12-28      13.287\n",
       "2016-01-04      12.332\n",
       "2016-01-11      12.877\n",
       "2016-01-18      13.387\n",
       "2016-01-25      12.644\n",
       "...                ...\n",
       "2019-12-02      11.804\n",
       "2019-12-09      13.609\n",
       "2019-12-16      14.339\n",
       "2019-12-23      13.877\n",
       "2019-12-30      14.379\n",
       "\n",
       "[210 rows x 1 columns]"
      ]
     },
     "execution_count": 11,
     "metadata": {},
     "output_type": "execute_result"
    }
   ],
   "source": [
    "x"
   ]
  },
  {
   "cell_type": "code",
   "execution_count": 12,
   "metadata": {},
   "outputs": [
    {
     "data": {
      "image/png": "[encoded data removed]",
      "text/plain": [
       "<Figure size 432x288 with 1 Axes>"
      ]
     },
     "metadata": {
      "needs_background": "light"
     },
     "output_type": "display_data"
    }
   ],
   "source": [
    "dff_1 = salmon['MEAN_PRICE'].diff().dropna()\n",
    "plt.plot(dff_1)\n",
    "plt.show()"
   ]
  },
  {
   "cell_type": "code",
   "execution_count": 13,
   "metadata": {
    "scrolled": false
   },
   "outputs": [
    {
     "data": {
      "image/png": "[encoded data removed]",
      "text/plain": [
       "<Figure size 432x288 with 1 Axes>"
      ]
     },
     "metadata": {
      "needs_background": "light"
     },
     "output_type": "display_data"
    }
   ],
   "source": [
    "dff_2 = dff_1.diff().dropna()\n",
    "plt.plot(dff_2)\n",
    "plt.show()"
   ]
  },
  {
   "cell_type": "markdown",
   "metadata": {},
   "source": [
    "pip install pmdarima"
   ]
  },
  {
   "cell_type": "code",
   "execution_count": 14,
   "metadata": {
    "scrolled": false
   },
   "outputs": [
    {
     "name": "stdout",
     "output_type": "stream",
     "text": [
      "Performing stepwise search to minimize aic\n",
      " ARIMA(2,1,2)(0,0,0)[0] intercept   : AIC=448.780, Time=0.25 sec\n",
      " ARIMA(0,1,0)(0,0,0)[0] intercept   : AIC=463.440, Time=0.03 sec\n",
      " ARIMA(1,1,0)(0,0,0)[0] intercept   : AIC=449.813, Time=0.02 sec\n",
      " ARIMA(0,1,1)(0,0,0)[0] intercept   : AIC=445.479, Time=0.03 sec\n",
      " ARIMA(0,1,0)(0,0,0)[0]             : AIC=461.450, Time=0.01 sec\n",
      " ARIMA(1,1,1)(0,0,0)[0] intercept   : AIC=445.509, Time=0.06 sec\n",
      " ARIMA(0,1,2)(0,0,0)[0] intercept   : AIC=446.095, Time=0.06 sec\n",
      " ARIMA(1,1,2)(0,0,0)[0] intercept   : AIC=447.671, Time=0.15 sec\n",
      " ARIMA(0,1,1)(0,0,0)[0]             : AIC=443.511, Time=0.02 sec\n",
      " ARIMA(1,1,1)(0,0,0)[0]             : AIC=443.533, Time=0.05 sec\n",
      " ARIMA(0,1,2)(0,0,0)[0]             : AIC=444.128, Time=0.02 sec\n",
      " ARIMA(1,1,0)(0,0,0)[0]             : AIC=447.836, Time=0.01 sec\n",
      " ARIMA(1,1,2)(0,0,0)[0]             : AIC=445.704, Time=0.08 sec\n",
      "\n",
      "Best model:  ARIMA(0,1,1)(0,0,0)[0]          \n",
      "Total fit time: 0.783 seconds\n"
     ]
    },
    {
     "data": {
      "text/plain": [
       "ARIMA(order=(0, 1, 1), scoring_args={}, suppress_warnings=True,\n",
       "      with_intercept=False)"
      ]
     },
     "execution_count": 14,
     "metadata": {},
     "output_type": "execute_result"
    }
   ],
   "source": [
    "import pmdarima as pmd\n",
    "from pmdarima import auto_arima\n",
    "auto_arima(x.MEAN_PRICE, seasonal=False,trace=True,supress_warnings=False)"
   ]
  },
  {
   "cell_type": "code",
   "execution_count": 15,
   "metadata": {},
   "outputs": [
    {
     "name": "stdout",
     "output_type": "stream",
     "text": [
      "                             ARIMA Model Results                              \n",
      "==============================================================================\n",
      "Dep. Variable:                    D.y   No. Observations:                  209\n",
      "Model:                 ARIMA(0, 1, 1)   Log Likelihood                -219.739\n",
      "Method:                       css-mle   S.D. of innovations              0.692\n",
      "Date:                Fri, 10 Sep 2021   AIC                            445.479\n",
      "Time:                        00:55:59   BIC                            455.506\n",
      "Sample:                             1   HQIC                           449.533\n",
      "                                                                              \n",
      "==============================================================================\n",
      "                 coef    std err          z      P>|z|      [0.025      0.975]\n",
      "------------------------------------------------------------------------------\n",
      "const          0.0056      0.032      0.179      0.858      -0.056       0.067\n",
      "ma.L1.D.y     -0.3435      0.072     -4.752      0.000      -0.485      -0.202\n",
      "                                    Roots                                    \n",
      "=============================================================================\n",
      "                  Real          Imaginary           Modulus         Frequency\n",
      "-----------------------------------------------------------------------------\n",
      "MA.1            2.9108           +0.0000j            2.9108            0.0000\n",
      "-----------------------------------------------------------------------------\n"
     ]
    }
   ],
   "source": [
    "from statsmodels.tsa.arima_model import ARIMA\n",
    "import statsmodels.api as sm\n",
    "\n",
    "# (AR = 0, 차분 =1, MA=1) 파라미터로 ARIMA 모델을 학습한다.\n",
    "model = ARIMA(x.MEAN_PRICE.values, order = (0,1,1))\n",
    "model_fit = model.fit(trend = 'c', full_output = True, disp = True)\n",
    "print(model_fit.summary())"
   ]
  },
  {
   "cell_type": "code",
   "execution_count": 16,
   "metadata": {
    "scrolled": false
   },
   "outputs": [
    {
     "name": "stdout",
     "output_type": "stream",
     "text": [
      "                             ARIMA Model Results                              \n",
      "==============================================================================\n",
      "Dep. Variable:                    D.y   No. Observations:                  209\n",
      "Model:                 ARIMA(0, 1, 1)   Log Likelihood                -219.755\n",
      "Method:                       css-mle   S.D. of innovations              0.692\n",
      "Date:                Fri, 10 Sep 2021   AIC                            443.511\n",
      "Time:                        00:55:59   BIC                            450.196\n",
      "Sample:                             1   HQIC                           446.214\n",
      "                                                                              \n",
      "==============================================================================\n",
      "                 coef    std err          z      P>|z|      [0.025      0.975]\n",
      "------------------------------------------------------------------------------\n",
      "ma.L1.D.y     -0.3433      0.072     -4.749      0.000      -0.485      -0.202\n",
      "                                    Roots                                    \n",
      "=============================================================================\n",
      "                  Real          Imaginary           Modulus         Frequency\n",
      "-----------------------------------------------------------------------------\n",
      "MA.1            2.9128           +0.0000j            2.9128            0.0000\n",
      "-----------------------------------------------------------------------------\n"
     ]
    },
    {
     "name": "stderr",
     "output_type": "stream",
     "text": [
      "C:\\Users\\GaeJu\\anaconda3\\lib\\site-packages\\statsmodels\\base\\model.py:567: ConvergenceWarning: Maximum Likelihood optimization failed to converge. Check mle_retvals\n",
      "  warn(\"Maximum Likelihood optimization failed to converge. \"\n"
     ]
    }
   ],
   "source": [
    "model = ARIMA(x.MEAN_PRICE.values, order = (0,1,1))\n",
    "model_fit = model.fit(trend = 'nc', full_output = True, disp = True)\n",
    "print(model_fit.summary())"
   ]
  },
  {
   "cell_type": "code",
   "execution_count": 17,
   "metadata": {},
   "outputs": [
    {
     "data": {
      "image/png": "[encoded data removed]",
      "text/plain": [
       "<Figure size 432x288 with 1 Axes>"
      ]
     },
     "metadata": {
      "needs_background": "light"
     },
     "output_type": "display_data"
    }
   ],
   "source": [
    "fig = model_fit.plot_predict()"
   ]
  },
  {
   "cell_type": "code",
   "execution_count": 18,
   "metadata": {
    "scrolled": false
   },
   "outputs": [
    {
     "data": {
      "text/plain": [
       "<matplotlib.axes._subplots.AxesSubplot at 0x2bb30760760>"
      ]
     },
     "execution_count": 18,
     "metadata": {},
     "output_type": "execute_result"
    },
    {
     "data": {
      "image/png": "[encoded data removed]",
      "text/plain": [
       "<Figure size 432x288 with 1 Axes>"
      ]
     },
     "metadata": {
      "needs_background": "light"
     },
     "output_type": "display_data"
    }
   ],
   "source": [
    "residuals = pd.DataFrame(model_fit.resid)\n",
    "residuals.plot()"
   ]
  },
  {
   "cell_type": "code",
   "execution_count": 19,
   "metadata": {},
   "outputs": [
    {
     "name": "stdout",
     "output_type": "stream",
     "text": [
      "[12.62529481 12.79164711 13.1829031  12.82898075 11.74938806 12.47805709\n",
      " 12.93376069 12.76055238 12.81009788 12.69774007 12.737312   13.00700562\n",
      " 14.5659777  14.52987454 14.09325984 13.42458148 13.1976425  12.53002623\n",
      " 13.22872435 13.30573778 13.75245738 13.41133629 12.95537443 14.28295037\n",
      " 14.48130254 14.29526135 13.35799687 13.9043628  13.62897255 13.39586657\n",
      " 12.63945036 12.31343769 12.53248384 12.33384653 11.99575333 12.37876404\n",
      " 11.797094   10.9026241  11.3520451  12.20045554 13.18847085 12.66412514\n",
      " 12.52548193 12.2007619  11.62894358 12.04991722 12.15241481 12.46603896\n",
      " 12.82850479 13.28588438 14.3504505  13.39336119 14.13715077 14.07203971\n",
      " 14.11207156 14.29983715 14.73795455 14.5974533  13.88005304 13.21742067\n",
      " 12.85662307 12.29211947 12.3294722  12.66932616 12.46356883 12.85129751\n",
      " 12.76047929 13.07340441 12.94639818 12.19619975 12.0496273  11.88832696\n",
      " 12.19741199 12.1629937  12.26938119 12.39390146 12.7196831  12.9694324\n",
      " 12.35711584 11.91114906 12.0029874  12.17373439 12.25665142 12.83739194\n",
      " 12.42867503 12.30346115 12.46207666 11.85590389 12.61115746 12.43834528\n",
      " 12.45847585 13.13586471 12.92384354 11.84632234 11.21700418 11.88944928\n",
      " 11.74402634 11.12081275 11.17938089 10.89938195 11.15983601 11.35957665\n",
      " 11.52862331 11.73966732 12.02226135 12.31497228 11.98402006 11.79553762\n",
      " 12.27850646 12.44037565 12.08683117 12.21696613 12.48885694 12.81598118\n",
      " 13.09048885 13.48155349 13.7780127  13.96187682 13.92386984 13.83595921\n",
      " 13.62584604 13.63251402 13.9835042  14.22483404 14.40421867 14.11053583\n",
      " 13.57761052 12.62369957 12.87540811 12.67616384 12.44818574 12.27469831\n",
      " 12.11663477 12.01246132 12.10869142 12.46744535 12.36076954 12.04439758\n",
      " 12.12556573 12.60457599 12.82615807 12.85429182 13.30261765 12.66194188\n",
      " 12.75588634 12.36851544 12.48112718 12.54474234 13.12148303 11.84193887\n",
      " 11.64431612 11.32692854 10.97696111 11.47081554 11.89384332 11.9622417\n",
      " 12.67064863 12.66168575 12.97053517 13.01286841 12.22164657 12.43136193\n",
      " 12.07782646 11.03774766 11.85680249 11.71443104 12.03789484 12.88115046\n",
      " 12.11404083 12.57500854 12.92107716 13.1541505  13.4640081  13.16980685\n",
      " 12.97030073 12.90049439 12.32097149 12.77410448 12.60198378 12.75171915\n",
      " 12.89374805 12.69362386 12.34385651 12.22049352 12.32392603 12.07246335\n",
      " 12.03669796 11.95875051 11.94381054 11.76597268 11.82837592 11.7893845\n",
      " 11.62561686 11.47286031 11.22406754 10.93376738 10.76646486 11.18709618\n",
      " 11.34595136 11.26980757 11.05782392 10.84057604 11.0148766  11.35709174\n",
      " 11.65057074 12.93664646 13.85755429 13.87032404 14.20436511]\n"
     ]
    }
   ],
   "source": [
    "preds = model_fit.predict(2, 210, typ='levels')\n",
    "print(preds)"
   ]
  },
  {
   "cell_type": "code",
   "execution_count": 20,
   "metadata": {},
   "outputs": [],
   "source": [
    "forecast_data = model_fit.forecast(steps=455) \n",
    "\n",
    "pred = x[50:]\n",
    "\n",
    "# 마지막 5일의 예측 데이터 (2021-04-15 ~ 2021-04-19)\n",
    "pred_y = forecast_data[0].tolist()\n",
    "\n",
    "# 실제 5일의 데이터 (2021-04-15 ~ 2021-04-19)\n",
    "test_y = pred.MEAN_PRICE.values\n",
    "\n",
    "# 마지막 5일의 예측 데이터 최소값\n",
    "pred_y_lower = []\n",
    "# 마지막 5일의 예측 데이터 최대값\n",
    "pred_y_upper = []\n",
    "\n",
    "for lower_upper in forecast_data[2]:\n",
    "    lower = lower_upper[0]\n",
    "    upper = lower_upper[1]\n",
    "    pred_y_lower.append(lower)\n",
    "    pred_y_upper.append(upper)"
   ]
  },
  {
   "cell_type": "code",
   "execution_count": 21,
   "metadata": {
    "scrolled": true
   },
   "outputs": [
    {
     "data": {
      "text/plain": [
       "[<matplotlib.lines.Line2D at 0x2bb30787d30>]"
      ]
     },
     "execution_count": 21,
     "metadata": {},
     "output_type": "execute_result"
    },
    {
     "data": {
      "image/png": "[encoded data removed]",
      "text/plain": [
       "<Figure size 432x288 with 1 Axes>"
      ]
     },
     "metadata": {
      "needs_background": "light"
     },
     "output_type": "display_data"
    }
   ],
   "source": [
    "# 모델이 예측한 가격 그래프\n",
    "plt.plot(pred_y, color = 'gold')\n",
    "\n",
    "# 모델이 예측한 최저 가격 그래프\n",
    "plt.plot(pred_y_lower, color = 'red')\n",
    "\n",
    "# 모델이 예측한 최고 가격 그래프\n",
    "plt.plot(pred_y_upper, color = 'blue')\n",
    "\n",
    "# 실제 가격 그래프\n",
    "plt.plot(test_y, color = 'green')"
   ]
  },
  {
   "cell_type": "code",
   "execution_count": 22,
   "metadata": {},
   "outputs": [
    {
     "data": {
      "text/plain": [
       "DatetimeIndex(['2021-01-04', '2021-01-11', '2021-01-18', '2021-01-25',\n",
       "               '2021-02-01', '2021-02-08', '2021-02-15', '2021-02-22',\n",
       "               '2021-03-01', '2021-03-08', '2021-03-15', '2021-03-22',\n",
       "               '2021-03-29', '2021-04-05', '2021-04-12', '2021-04-19',\n",
       "               '2021-04-26', '2021-05-03', '2021-05-10', '2021-05-17',\n",
       "               '2021-05-24', '2021-05-31', '2021-06-07', '2021-06-14',\n",
       "               '2021-06-21', '2021-06-28'],\n",
       "              dtype='datetime64[ns]', freq='W-MON')"
      ]
     },
     "execution_count": 22,
     "metadata": {},
     "output_type": "execute_result"
    }
   ],
   "source": [
    "date=pd.date_range('2021-01-04','2021-06-28', freq='W-MON')\n",
    "date"
   ]
  },
  {
   "cell_type": "code",
   "execution_count": 23,
   "metadata": {
    "scrolled": false
   },
   "outputs": [
    {
     "data": {
      "text/html": [
       "<div>\n",
       "<style scoped>\n",
       "    .dataframe tbody tr th:only-of-type {\n",
       "        vertical-align: middle;\n",
       "    }\n",
       "\n",
       "    .dataframe tbody tr th {\n",
       "        vertical-align: top;\n",
       "    }\n",
       "\n",
       "    .dataframe thead th {\n",
       "        text-align: right;\n",
       "    }\n",
       "</style>\n",
       "<table border=\"1\" class=\"dataframe\">\n",
       "  <thead>\n",
       "    <tr style=\"text-align: right;\">\n",
       "      <th></th>\n",
       "      <th>MEAN_PRICE</th>\n",
       "    </tr>\n",
       "    <tr>\n",
       "      <th>REG_DATE</th>\n",
       "      <th></th>\n",
       "    </tr>\n",
       "  </thead>\n",
       "  <tbody>\n",
       "    <tr>\n",
       "      <th>2015-12-28</th>\n",
       "      <td>13.287</td>\n",
       "    </tr>\n",
       "    <tr>\n",
       "      <th>2016-01-04</th>\n",
       "      <td>12.332</td>\n",
       "    </tr>\n",
       "    <tr>\n",
       "      <th>2016-01-11</th>\n",
       "      <td>12.877</td>\n",
       "    </tr>\n",
       "    <tr>\n",
       "      <th>2016-01-18</th>\n",
       "      <td>13.387</td>\n",
       "    </tr>\n",
       "    <tr>\n",
       "      <th>2016-01-25</th>\n",
       "      <td>12.644</td>\n",
       "    </tr>\n",
       "    <tr>\n",
       "      <th>...</th>\n",
       "      <td>...</td>\n",
       "    </tr>\n",
       "    <tr>\n",
       "      <th>2019-12-02</th>\n",
       "      <td>11.804</td>\n",
       "    </tr>\n",
       "    <tr>\n",
       "      <th>2019-12-09</th>\n",
       "      <td>13.609</td>\n",
       "    </tr>\n",
       "    <tr>\n",
       "      <th>2019-12-16</th>\n",
       "      <td>14.339</td>\n",
       "    </tr>\n",
       "    <tr>\n",
       "      <th>2019-12-23</th>\n",
       "      <td>13.877</td>\n",
       "    </tr>\n",
       "    <tr>\n",
       "      <th>2019-12-30</th>\n",
       "      <td>14.379</td>\n",
       "    </tr>\n",
       "  </tbody>\n",
       "</table>\n",
       "<p>210 rows × 1 columns</p>\n",
       "</div>"
      ],
      "text/plain": [
       "            MEAN_PRICE\n",
       "REG_DATE              \n",
       "2015-12-28      13.287\n",
       "2016-01-04      12.332\n",
       "2016-01-11      12.877\n",
       "2016-01-18      13.387\n",
       "2016-01-25      12.644\n",
       "...                ...\n",
       "2019-12-02      11.804\n",
       "2019-12-09      13.609\n",
       "2019-12-16      14.339\n",
       "2019-12-23      13.877\n",
       "2019-12-30      14.379\n",
       "\n",
       "[210 rows x 1 columns]"
      ]
     },
     "execution_count": 23,
     "metadata": {},
     "output_type": "execute_result"
    }
   ],
   "source": [
    "x"
   ]
  },
  {
   "cell_type": "code",
   "execution_count": 24,
   "metadata": {},
   "outputs": [
    {
     "data": {
      "text/html": [
       "<div>\n",
       "<style scoped>\n",
       "    .dataframe tbody tr th:only-of-type {\n",
       "        vertical-align: middle;\n",
       "    }\n",
       "\n",
       "    .dataframe tbody tr th {\n",
       "        vertical-align: top;\n",
       "    }\n",
       "\n",
       "    .dataframe thead th {\n",
       "        text-align: right;\n",
       "    }\n",
       "</style>\n",
       "<table border=\"1\" class=\"dataframe\">\n",
       "  <thead>\n",
       "    <tr style=\"text-align: right;\">\n",
       "      <th></th>\n",
       "      <th>예측단가($)</th>\n",
       "    </tr>\n",
       "    <tr>\n",
       "      <th>Date</th>\n",
       "      <th></th>\n",
       "    </tr>\n",
       "  </thead>\n",
       "  <tbody>\n",
       "    <tr>\n",
       "      <th>2021-01-04</th>\n",
       "      <td>12.220494</td>\n",
       "    </tr>\n",
       "    <tr>\n",
       "      <th>2021-01-11</th>\n",
       "      <td>12.323926</td>\n",
       "    </tr>\n",
       "    <tr>\n",
       "      <th>2021-01-18</th>\n",
       "      <td>12.072463</td>\n",
       "    </tr>\n",
       "    <tr>\n",
       "      <th>2021-01-25</th>\n",
       "      <td>12.036698</td>\n",
       "    </tr>\n",
       "    <tr>\n",
       "      <th>2021-02-01</th>\n",
       "      <td>11.958751</td>\n",
       "    </tr>\n",
       "    <tr>\n",
       "      <th>2021-02-08</th>\n",
       "      <td>11.943811</td>\n",
       "    </tr>\n",
       "    <tr>\n",
       "      <th>2021-02-15</th>\n",
       "      <td>11.765973</td>\n",
       "    </tr>\n",
       "    <tr>\n",
       "      <th>2021-02-22</th>\n",
       "      <td>11.828376</td>\n",
       "    </tr>\n",
       "    <tr>\n",
       "      <th>2021-03-01</th>\n",
       "      <td>11.789385</td>\n",
       "    </tr>\n",
       "    <tr>\n",
       "      <th>2021-03-08</th>\n",
       "      <td>11.625617</td>\n",
       "    </tr>\n",
       "    <tr>\n",
       "      <th>2021-03-15</th>\n",
       "      <td>11.472860</td>\n",
       "    </tr>\n",
       "    <tr>\n",
       "      <th>2021-03-22</th>\n",
       "      <td>11.224068</td>\n",
       "    </tr>\n",
       "    <tr>\n",
       "      <th>2021-03-29</th>\n",
       "      <td>10.933767</td>\n",
       "    </tr>\n",
       "    <tr>\n",
       "      <th>2021-04-05</th>\n",
       "      <td>10.766465</td>\n",
       "    </tr>\n",
       "    <tr>\n",
       "      <th>2021-04-12</th>\n",
       "      <td>11.187096</td>\n",
       "    </tr>\n",
       "    <tr>\n",
       "      <th>2021-04-19</th>\n",
       "      <td>11.345951</td>\n",
       "    </tr>\n",
       "    <tr>\n",
       "      <th>2021-04-26</th>\n",
       "      <td>11.269808</td>\n",
       "    </tr>\n",
       "    <tr>\n",
       "      <th>2021-05-03</th>\n",
       "      <td>11.057824</td>\n",
       "    </tr>\n",
       "    <tr>\n",
       "      <th>2021-05-10</th>\n",
       "      <td>10.840576</td>\n",
       "    </tr>\n",
       "    <tr>\n",
       "      <th>2021-05-17</th>\n",
       "      <td>11.014877</td>\n",
       "    </tr>\n",
       "    <tr>\n",
       "      <th>2021-05-24</th>\n",
       "      <td>11.357092</td>\n",
       "    </tr>\n",
       "    <tr>\n",
       "      <th>2021-05-31</th>\n",
       "      <td>11.650571</td>\n",
       "    </tr>\n",
       "    <tr>\n",
       "      <th>2021-06-07</th>\n",
       "      <td>12.936646</td>\n",
       "    </tr>\n",
       "    <tr>\n",
       "      <th>2021-06-14</th>\n",
       "      <td>13.857554</td>\n",
       "    </tr>\n",
       "    <tr>\n",
       "      <th>2021-06-21</th>\n",
       "      <td>13.870324</td>\n",
       "    </tr>\n",
       "    <tr>\n",
       "      <th>2021-06-28</th>\n",
       "      <td>14.204365</td>\n",
       "    </tr>\n",
       "  </tbody>\n",
       "</table>\n",
       "</div>"
      ],
      "text/plain": [
       "              예측단가($)\n",
       "Date                 \n",
       "2021-01-04  12.220494\n",
       "2021-01-11  12.323926\n",
       "2021-01-18  12.072463\n",
       "2021-01-25  12.036698\n",
       "2021-02-01  11.958751\n",
       "2021-02-08  11.943811\n",
       "2021-02-15  11.765973\n",
       "2021-02-22  11.828376\n",
       "2021-03-01  11.789385\n",
       "2021-03-08  11.625617\n",
       "2021-03-15  11.472860\n",
       "2021-03-22  11.224068\n",
       "2021-03-29  10.933767\n",
       "2021-04-05  10.766465\n",
       "2021-04-12  11.187096\n",
       "2021-04-19  11.345951\n",
       "2021-04-26  11.269808\n",
       "2021-05-03  11.057824\n",
       "2021-05-10  10.840576\n",
       "2021-05-17  11.014877\n",
       "2021-05-24  11.357092\n",
       "2021-05-31  11.650571\n",
       "2021-06-07  12.936646\n",
       "2021-06-14  13.857554\n",
       "2021-06-21  13.870324\n",
       "2021-06-28  14.204365"
      ]
     },
     "execution_count": 24,
     "metadata": {},
     "output_type": "execute_result"
    }
   ],
   "source": [
    "# forecast dataframe\n",
    "forcast_df1 = pd.DataFrame({'Date':date,\n",
    "                           '예측단가($)':preds[183:]}) \n",
    "\n",
    "# set datatype to datetime format\n",
    "forcast_df1['Date']=pd.to_datetime(forcast_df1['Date'], infer_datetime_format=True)\n",
    "\n",
    "# set Date column as index\n",
    "forcast_df1 = forcast_df1.set_index('Date')\n",
    "forcast_df1"
   ]
  },
  {
   "cell_type": "code",
   "execution_count": 25,
   "metadata": {
    "scrolled": true
   },
   "outputs": [
    {
     "data": {
      "image/png": "[encoded data removed]",
      "text/plain": [
       "<Figure size 432x288 with 1 Axes>"
      ]
     },
     "metadata": {
      "needs_background": "light"
     },
     "output_type": "display_data"
    }
   ],
   "source": [
    "# Prediction Plotting\n",
    "\n",
    "orgi = plt.plot(x, color='b', label='Original')\n",
    "predi = plt.plot(forcast_df1, color='r', label='Predicted')\n",
    "plt.legend(loc='best')\n",
    "plt.title('0,1,1 MEAN_PRICE Salmon Prediction')\n",
    "plt.show(block=False)"
   ]
  },
  {
   "cell_type": "markdown",
   "metadata": {},
   "source": [
    "### 오징어"
   ]
  },
  {
   "cell_type": "code",
   "execution_count": 26,
   "metadata": {},
   "outputs": [
    {
     "data": {
      "text/html": [
       "<div>\n",
       "<style scoped>\n",
       "    .dataframe tbody tr th:only-of-type {\n",
       "        vertical-align: middle;\n",
       "    }\n",
       "\n",
       "    .dataframe tbody tr th {\n",
       "        vertical-align: top;\n",
       "    }\n",
       "\n",
       "    .dataframe thead th {\n",
       "        text-align: right;\n",
       "    }\n",
       "</style>\n",
       "<table border=\"1\" class=\"dataframe\">\n",
       "  <thead>\n",
       "    <tr style=\"text-align: right;\">\n",
       "      <th></th>\n",
       "      <th>MEAN_PRICE</th>\n",
       "    </tr>\n",
       "    <tr>\n",
       "      <th>REG_DATE</th>\n",
       "      <th></th>\n",
       "    </tr>\n",
       "  </thead>\n",
       "  <tbody>\n",
       "    <tr>\n",
       "      <th>2015-12-28</th>\n",
       "      <td>1.742</td>\n",
       "    </tr>\n",
       "    <tr>\n",
       "      <th>2016-01-04</th>\n",
       "      <td>1.787</td>\n",
       "    </tr>\n",
       "    <tr>\n",
       "      <th>2016-01-11</th>\n",
       "      <td>1.346</td>\n",
       "    </tr>\n",
       "    <tr>\n",
       "      <th>2016-01-18</th>\n",
       "      <td>1.675</td>\n",
       "    </tr>\n",
       "    <tr>\n",
       "      <th>2016-01-25</th>\n",
       "      <td>2.186</td>\n",
       "    </tr>\n",
       "    <tr>\n",
       "      <th>...</th>\n",
       "      <td>...</td>\n",
       "    </tr>\n",
       "    <tr>\n",
       "      <th>2019-12-02</th>\n",
       "      <td>2.439</td>\n",
       "    </tr>\n",
       "    <tr>\n",
       "      <th>2019-12-09</th>\n",
       "      <td>2.886</td>\n",
       "    </tr>\n",
       "    <tr>\n",
       "      <th>2019-12-16</th>\n",
       "      <td>2.770</td>\n",
       "    </tr>\n",
       "    <tr>\n",
       "      <th>2019-12-23</th>\n",
       "      <td>2.978</td>\n",
       "    </tr>\n",
       "    <tr>\n",
       "      <th>2019-12-30</th>\n",
       "      <td>2.952</td>\n",
       "    </tr>\n",
       "  </tbody>\n",
       "</table>\n",
       "<p>208 rows × 1 columns</p>\n",
       "</div>"
      ],
      "text/plain": [
       "            MEAN_PRICE\n",
       "REG_DATE              \n",
       "2015-12-28       1.742\n",
       "2016-01-04       1.787\n",
       "2016-01-11       1.346\n",
       "2016-01-18       1.675\n",
       "2016-01-25       2.186\n",
       "...                ...\n",
       "2019-12-02       2.439\n",
       "2019-12-09       2.886\n",
       "2019-12-16       2.770\n",
       "2019-12-23       2.978\n",
       "2019-12-30       2.952\n",
       "\n",
       "[208 rows x 1 columns]"
      ]
     },
     "execution_count": 26,
     "metadata": {},
     "output_type": "execute_result"
    }
   ],
   "source": [
    "#var= ['REG_DATE','CTRY_1','CTRY_2','P_PURPOSE','CATEGORY_1','CATEGORY_2','P_NAME','P_IMPORT_TYPE','P_PRICE','MEAN_PRICE','DAY','M_MEAN_PRICE','IMPORT_MEAN_PRICE']\n",
    "var1= ['REG_DATE','MEAN_PRICE']\n",
    "y = squid[var1]\n",
    "y.index = y['REG_DATE']\n",
    "y.set_index('REG_DATE', inplace=True)\n",
    "y"
   ]
  },
  {
   "cell_type": "code",
   "execution_count": 27,
   "metadata": {},
   "outputs": [
    {
     "name": "stdout",
     "output_type": "stream",
     "text": [
      "Performing stepwise search to minimize aic\n",
      " ARIMA(2,1,2)(0,0,0)[0] intercept   : AIC=110.032, Time=0.17 sec\n",
      " ARIMA(0,1,0)(0,0,0)[0] intercept   : AIC=194.110, Time=0.02 sec\n",
      " ARIMA(1,1,0)(0,0,0)[0] intercept   : AIC=160.995, Time=0.03 sec\n",
      " ARIMA(0,1,1)(0,0,0)[0] intercept   : AIC=109.186, Time=0.05 sec\n",
      " ARIMA(0,1,0)(0,0,0)[0]             : AIC=192.158, Time=0.01 sec\n",
      " ARIMA(1,1,1)(0,0,0)[0] intercept   : AIC=110.097, Time=0.12 sec\n",
      " ARIMA(0,1,2)(0,0,0)[0] intercept   : AIC=109.640, Time=0.10 sec\n",
      " ARIMA(1,1,2)(0,0,0)[0] intercept   : AIC=109.414, Time=0.22 sec\n",
      " ARIMA(0,1,1)(0,0,0)[0]             : AIC=108.130, Time=0.03 sec\n",
      " ARIMA(1,1,1)(0,0,0)[0]             : AIC=109.163, Time=0.04 sec\n",
      " ARIMA(0,1,2)(0,0,0)[0]             : AIC=108.738, Time=0.04 sec\n",
      " ARIMA(1,1,0)(0,0,0)[0]             : AIC=159.105, Time=0.02 sec\n",
      " ARIMA(1,1,2)(0,0,0)[0]             : AIC=108.464, Time=0.06 sec\n",
      "\n",
      "Best model:  ARIMA(0,1,1)(0,0,0)[0]          \n",
      "Total fit time: 0.909 seconds\n"
     ]
    },
    {
     "data": {
      "text/plain": [
       "ARIMA(order=(0, 1, 1), scoring_args={}, suppress_warnings=True,\n",
       "      with_intercept=False)"
      ]
     },
     "execution_count": 27,
     "metadata": {},
     "output_type": "execute_result"
    }
   ],
   "source": [
    "# import pmdarima as pmd\n",
    "# from pmdarima import auto_arima\n",
    "auto_arima(y.MEAN_PRICE.values, seasonal=False,trace=True,supress_warnings=False)"
   ]
  },
  {
   "cell_type": "code",
   "execution_count": 28,
   "metadata": {},
   "outputs": [
    {
     "name": "stdout",
     "output_type": "stream",
     "text": [
      "                             ARIMA Model Results                              \n",
      "==============================================================================\n",
      "Dep. Variable:                    D.y   No. Observations:                  207\n",
      "Model:                 ARIMA(0, 1, 1)   Log Likelihood                 -51.593\n",
      "Method:                       css-mle   S.D. of innovations              0.310\n",
      "Date:                Fri, 10 Sep 2021   AIC                            109.186\n",
      "Time:                        00:56:01   BIC                            119.184\n",
      "Sample:                             1   HQIC                           113.229\n",
      "                                                                              \n",
      "==============================================================================\n",
      "                 coef    std err          z      P>|z|      [0.025      0.975]\n",
      "------------------------------------------------------------------------------\n",
      "const          0.0047      0.005      0.985      0.325      -0.005       0.014\n",
      "ma.L1.D.y     -0.7822      0.049    -16.022      0.000      -0.878      -0.686\n",
      "                                    Roots                                    \n",
      "=============================================================================\n",
      "                  Real          Imaginary           Modulus         Frequency\n",
      "-----------------------------------------------------------------------------\n",
      "MA.1            1.2785           +0.0000j            1.2785            0.0000\n",
      "-----------------------------------------------------------------------------\n"
     ]
    }
   ],
   "source": [
    "from statsmodels.tsa.arima_model import ARIMA\n",
    "import statsmodels.api as sm\n",
    "\n",
    "# (AR = 0, 차분 =1, MA=1) 파라미터로 ARIMA 모델을 학습한다.\n",
    "model2 = ARIMA(y.MEAN_PRICE.values, order = (0,1,1))\n",
    "model2_fit = model2.fit(trend = 'c', full_output = True, disp = True)\n",
    "print(model2_fit.summary())"
   ]
  },
  {
   "cell_type": "code",
   "execution_count": 29,
   "metadata": {},
   "outputs": [
    {
     "name": "stdout",
     "output_type": "stream",
     "text": [
      "                             ARIMA Model Results                              \n",
      "==============================================================================\n",
      "Dep. Variable:                    D.y   No. Observations:                  207\n",
      "Model:                 ARIMA(0, 1, 1)   Log Likelihood                 -52.065\n",
      "Method:                       css-mle   S.D. of innovations              0.310\n",
      "Date:                Fri, 10 Sep 2021   AIC                            108.130\n",
      "Time:                        00:56:01   BIC                            114.796\n",
      "Sample:                             1   HQIC                           110.826\n",
      "                                                                              \n",
      "==============================================================================\n",
      "                 coef    std err          z      P>|z|      [0.025      0.975]\n",
      "------------------------------------------------------------------------------\n",
      "ma.L1.D.y     -0.7746      0.048    -16.020      0.000      -0.869      -0.680\n",
      "                                    Roots                                    \n",
      "=============================================================================\n",
      "                  Real          Imaginary           Modulus         Frequency\n",
      "-----------------------------------------------------------------------------\n",
      "MA.1            1.2910           +0.0000j            1.2910            0.0000\n",
      "-----------------------------------------------------------------------------\n"
     ]
    }
   ],
   "source": [
    "model2 = ARIMA(y.MEAN_PRICE.values, order = (0,1,1))\n",
    "model2_fit = model2.fit(trend = 'nc', full_output = True, disp = True)\n",
    "print(model2_fit.summary())"
   ]
  },
  {
   "cell_type": "code",
   "execution_count": 30,
   "metadata": {},
   "outputs": [
    {
     "data": {
      "image/png": "[encoded data removed]",
      "text/plain": [
       "<Figure size 432x288 with 1 Axes>"
      ]
     },
     "metadata": {
      "needs_background": "light"
     },
     "output_type": "display_data"
    }
   ],
   "source": [
    "fig = model2_fit.plot_predict()"
   ]
  },
  {
   "cell_type": "code",
   "execution_count": 31,
   "metadata": {},
   "outputs": [
    {
     "data": {
      "text/plain": [
       "<matplotlib.axes._subplots.AxesSubplot at 0x2bb3082dc70>"
      ]
     },
     "execution_count": 31,
     "metadata": {},
     "output_type": "execute_result"
    },
    {
     "data": {
      "image/png": "[encoded data removed]",
      "text/plain": [
       "<Figure size 432x288 with 1 Axes>"
      ]
     },
     "metadata": {
      "needs_background": "light"
     },
     "output_type": "display_data"
    }
   ],
   "source": [
    "residuals = pd.DataFrame(model2_fit.resid)\n",
    "residuals.plot()"
   ]
  },
  {
   "cell_type": "code",
   "execution_count": 32,
   "metadata": {},
   "outputs": [
    {
     "data": {
      "text/plain": [
       "[<matplotlib.lines.Line2D at 0x2bb3095d7f0>]"
      ]
     },
     "execution_count": 32,
     "metadata": {},
     "output_type": "execute_result"
    },
    {
     "data": {
      "image/png": "[encoded data removed]",
      "text/plain": [
       "<Figure size 432x288 with 1 Axes>"
      ]
     },
     "metadata": {
      "needs_background": "light"
     },
     "output_type": "display_data"
    }
   ],
   "source": [
    "forecast_data = model2_fit.forecast(steps=455) \n",
    "\n",
    "pred = y[50:]\n",
    "\n",
    "# 마지막 5일의 예측 데이터 (2021-04-15 ~ 2021-04-19)\n",
    "pred_y = forecast_data[0].tolist()\n",
    "\n",
    "# 실제 5일의 데이터 (2021-04-15 ~ 2021-04-19)\n",
    "test_y = pred.MEAN_PRICE.values\n",
    "\n",
    "# 마지막 5일의 예측 데이터 최소값\n",
    "pred_y_lower = []\n",
    "# 마지막 5일의 예측 데이터 최대값\n",
    "pred_y_upper = []\n",
    "\n",
    "for lower_upper in forecast_data[2]:\n",
    "    lower = lower_upper[0]\n",
    "    upper = lower_upper[1]\n",
    "    pred_y_lower.append(lower)\n",
    "    pred_y_upper.append(upper)\n",
    "    \n",
    "    # 모델이 예측한 가격 그래프\n",
    "plt.plot(pred_y, color = 'gold')\n",
    "\n",
    "# 모델이 예측한 최저 가격 그래프\n",
    "plt.plot(pred_y_lower, color = 'red')\n",
    "\n",
    "# 모델이 예측한 최고 가격 그래프\n",
    "plt.plot(pred_y_upper, color = 'blue')\n",
    "\n",
    "# 실제 가격 그래프\n",
    "plt.plot(test_y, color = 'green')"
   ]
  },
  {
   "cell_type": "code",
   "execution_count": 33,
   "metadata": {},
   "outputs": [
    {
     "data": {
      "text/html": [
       "<div>\n",
       "<style scoped>\n",
       "    .dataframe tbody tr th:only-of-type {\n",
       "        vertical-align: middle;\n",
       "    }\n",
       "\n",
       "    .dataframe tbody tr th {\n",
       "        vertical-align: top;\n",
       "    }\n",
       "\n",
       "    .dataframe thead th {\n",
       "        text-align: right;\n",
       "    }\n",
       "</style>\n",
       "<table border=\"1\" class=\"dataframe\">\n",
       "  <thead>\n",
       "    <tr style=\"text-align: right;\">\n",
       "      <th></th>\n",
       "      <th>MEAN_PRICE</th>\n",
       "    </tr>\n",
       "    <tr>\n",
       "      <th>REG_DATE</th>\n",
       "      <th></th>\n",
       "    </tr>\n",
       "  </thead>\n",
       "  <tbody>\n",
       "    <tr>\n",
       "      <th>2015-12-28</th>\n",
       "      <td>1.742</td>\n",
       "    </tr>\n",
       "    <tr>\n",
       "      <th>2016-01-04</th>\n",
       "      <td>1.787</td>\n",
       "    </tr>\n",
       "    <tr>\n",
       "      <th>2016-01-11</th>\n",
       "      <td>1.346</td>\n",
       "    </tr>\n",
       "    <tr>\n",
       "      <th>2016-01-18</th>\n",
       "      <td>1.675</td>\n",
       "    </tr>\n",
       "    <tr>\n",
       "      <th>2016-01-25</th>\n",
       "      <td>2.186</td>\n",
       "    </tr>\n",
       "    <tr>\n",
       "      <th>...</th>\n",
       "      <td>...</td>\n",
       "    </tr>\n",
       "    <tr>\n",
       "      <th>2019-12-02</th>\n",
       "      <td>2.439</td>\n",
       "    </tr>\n",
       "    <tr>\n",
       "      <th>2019-12-09</th>\n",
       "      <td>2.886</td>\n",
       "    </tr>\n",
       "    <tr>\n",
       "      <th>2019-12-16</th>\n",
       "      <td>2.770</td>\n",
       "    </tr>\n",
       "    <tr>\n",
       "      <th>2019-12-23</th>\n",
       "      <td>2.978</td>\n",
       "    </tr>\n",
       "    <tr>\n",
       "      <th>2019-12-30</th>\n",
       "      <td>2.952</td>\n",
       "    </tr>\n",
       "  </tbody>\n",
       "</table>\n",
       "<p>208 rows × 1 columns</p>\n",
       "</div>"
      ],
      "text/plain": [
       "            MEAN_PRICE\n",
       "REG_DATE              \n",
       "2015-12-28       1.742\n",
       "2016-01-04       1.787\n",
       "2016-01-11       1.346\n",
       "2016-01-18       1.675\n",
       "2016-01-25       2.186\n",
       "...                ...\n",
       "2019-12-02       2.439\n",
       "2019-12-09       2.886\n",
       "2019-12-16       2.770\n",
       "2019-12-23       2.978\n",
       "2019-12-30       2.952\n",
       "\n",
       "[208 rows x 1 columns]"
      ]
     },
     "execution_count": 33,
     "metadata": {},
     "output_type": "execute_result"
    }
   ],
   "source": [
    "y"
   ]
  },
  {
   "cell_type": "code",
   "execution_count": 34,
   "metadata": {},
   "outputs": [
    {
     "name": "stdout",
     "output_type": "stream",
     "text": [
      "[1.76521461 1.61107656 1.63040083 1.77983298 1.87237955 1.92779577\n",
      " 1.92198754 2.03848327 2.00340253 2.01990417 2.02694892 2.23406693\n",
      " 2.09516726 1.81936498 1.81116215 1.76151313 1.55576312 1.51500912\n",
      " 1.69197957 1.69514026 1.65949061 1.51533159 1.5621455  1.45278144\n",
      " 1.48754611 1.58029784 1.54190859 1.56109024 1.64808353 1.64851555\n",
      " 1.65809256 1.65063271 1.68362738 1.7123402  1.80378558 1.87191191\n",
      " 1.83834362 1.91874246 1.9129395  1.85005989 1.97245152 1.76225474\n",
      " 1.80119564 1.84308037 1.86019446 1.8939642  1.97467399 2.06311362\n",
      " 2.07976937 2.00182472 2.07309815 1.95878616 1.92772588 1.93139445\n",
      " 1.82287668 1.81952312 1.82188486 1.71596162 1.75451775 1.76003663\n",
      " 1.80556398 1.92288265 1.92516334 1.9003299  1.88470129 1.83201946\n",
      " 1.81465744 1.91617537 1.91748838 1.90836134 1.8194629  1.87909586\n",
      " 1.94467258 1.94812775 2.01369728 2.12061641 2.16984527 2.21383779\n",
      " 2.2672998  2.34117123 2.21421902 2.17607303 2.19747183 2.23185531\n",
      " 2.37706086 2.24246913 2.21260743 2.26769933 2.18390945 2.07865694\n",
      " 2.18693771 2.10670087 2.08535304 2.14681416 2.21470862 2.19380989\n",
      " 2.30250702 2.35559275 2.35974218 2.33432741 2.39601973 2.57680518\n",
      " 2.66769489 2.75410099 2.67067141 2.64121497 2.61163599 2.59909431\n",
      " 2.63716968 2.60895345 2.52082323 2.57000547 2.62838901 2.7256844\n",
      " 2.68720807 2.6675493  2.69425091 2.65271636 2.69673795 2.74368517\n",
      " 2.76765107 2.70438563 2.69663429 2.82002356 2.89688777 2.86603\n",
      " 2.82499611 2.80425799 2.75595914 2.78459717 2.84667953 2.81271278\n",
      " 2.79248938 2.82822145 2.82005627 2.84078258 2.814457   2.82990823\n",
      " 2.85540181 2.87266886 2.86102147 2.95885056 2.98525884 3.03321576\n",
      " 3.1086841  3.24739096 3.28990793 3.14655914 3.18002124 3.2562097\n",
      " 3.25187938 3.24739809 3.25204225 3.16524456 3.10004195 3.10995114\n",
      " 3.17623676 3.15206304 3.08464711 3.04617919 3.06124219 3.01114351\n",
      " 3.11029763 3.03020509 3.09169956 3.08500457 3.00385097 2.89049639\n",
      " 2.92487433 2.97517217 2.94830793 2.95184529 2.92550558 2.94951196\n",
      " 2.84344736 2.76129225 2.84418233 2.88313955 2.90474878 2.86941387\n",
      " 2.80124258 2.82508282 2.84174551 2.83549101 2.81103456 2.78532845\n",
      " 2.7823239  2.74077291 2.71918341 2.72094546 2.70991199 2.71218606\n",
      " 2.68058479 2.68518686 2.69934644 2.65373273 2.60329805 2.56107661\n",
      " 2.58270002 2.51626762 2.48374626 2.5049933  2.49011684 2.57935833\n",
      " 2.6223335  2.7025092  2.75875037 2.75875037 2.75875037 2.75875037]\n"
     ]
    }
   ],
   "source": [
    "preds = model2_fit.predict(2, 211, typ='levels')\n",
    "print(preds)"
   ]
  },
  {
   "cell_type": "code",
   "execution_count": 35,
   "metadata": {},
   "outputs": [
    {
     "data": {
      "text/html": [
       "<div>\n",
       "<style scoped>\n",
       "    .dataframe tbody tr th:only-of-type {\n",
       "        vertical-align: middle;\n",
       "    }\n",
       "\n",
       "    .dataframe tbody tr th {\n",
       "        vertical-align: top;\n",
       "    }\n",
       "\n",
       "    .dataframe thead th {\n",
       "        text-align: right;\n",
       "    }\n",
       "</style>\n",
       "<table border=\"1\" class=\"dataframe\">\n",
       "  <thead>\n",
       "    <tr style=\"text-align: right;\">\n",
       "      <th></th>\n",
       "      <th>예측단가($)</th>\n",
       "    </tr>\n",
       "    <tr>\n",
       "      <th>Date</th>\n",
       "      <th></th>\n",
       "    </tr>\n",
       "  </thead>\n",
       "  <tbody>\n",
       "    <tr>\n",
       "      <th>2021-01-04</th>\n",
       "      <td>2.811035</td>\n",
       "    </tr>\n",
       "    <tr>\n",
       "      <th>2021-01-11</th>\n",
       "      <td>2.785328</td>\n",
       "    </tr>\n",
       "    <tr>\n",
       "      <th>2021-01-18</th>\n",
       "      <td>2.782324</td>\n",
       "    </tr>\n",
       "    <tr>\n",
       "      <th>2021-01-25</th>\n",
       "      <td>2.740773</td>\n",
       "    </tr>\n",
       "    <tr>\n",
       "      <th>2021-02-01</th>\n",
       "      <td>2.719183</td>\n",
       "    </tr>\n",
       "    <tr>\n",
       "      <th>2021-02-08</th>\n",
       "      <td>2.720945</td>\n",
       "    </tr>\n",
       "    <tr>\n",
       "      <th>2021-02-15</th>\n",
       "      <td>2.709912</td>\n",
       "    </tr>\n",
       "    <tr>\n",
       "      <th>2021-02-22</th>\n",
       "      <td>2.712186</td>\n",
       "    </tr>\n",
       "    <tr>\n",
       "      <th>2021-03-01</th>\n",
       "      <td>2.680585</td>\n",
       "    </tr>\n",
       "    <tr>\n",
       "      <th>2021-03-08</th>\n",
       "      <td>2.685187</td>\n",
       "    </tr>\n",
       "    <tr>\n",
       "      <th>2021-03-15</th>\n",
       "      <td>2.699346</td>\n",
       "    </tr>\n",
       "    <tr>\n",
       "      <th>2021-03-22</th>\n",
       "      <td>2.653733</td>\n",
       "    </tr>\n",
       "    <tr>\n",
       "      <th>2021-03-29</th>\n",
       "      <td>2.603298</td>\n",
       "    </tr>\n",
       "    <tr>\n",
       "      <th>2021-04-05</th>\n",
       "      <td>2.561077</td>\n",
       "    </tr>\n",
       "    <tr>\n",
       "      <th>2021-04-12</th>\n",
       "      <td>2.582700</td>\n",
       "    </tr>\n",
       "    <tr>\n",
       "      <th>2021-04-19</th>\n",
       "      <td>2.516268</td>\n",
       "    </tr>\n",
       "    <tr>\n",
       "      <th>2021-04-26</th>\n",
       "      <td>2.483746</td>\n",
       "    </tr>\n",
       "    <tr>\n",
       "      <th>2021-05-03</th>\n",
       "      <td>2.504993</td>\n",
       "    </tr>\n",
       "    <tr>\n",
       "      <th>2021-05-10</th>\n",
       "      <td>2.490117</td>\n",
       "    </tr>\n",
       "    <tr>\n",
       "      <th>2021-05-17</th>\n",
       "      <td>2.579358</td>\n",
       "    </tr>\n",
       "    <tr>\n",
       "      <th>2021-05-24</th>\n",
       "      <td>2.622334</td>\n",
       "    </tr>\n",
       "    <tr>\n",
       "      <th>2021-05-31</th>\n",
       "      <td>2.702509</td>\n",
       "    </tr>\n",
       "    <tr>\n",
       "      <th>2021-06-07</th>\n",
       "      <td>2.758750</td>\n",
       "    </tr>\n",
       "    <tr>\n",
       "      <th>2021-06-14</th>\n",
       "      <td>2.758750</td>\n",
       "    </tr>\n",
       "    <tr>\n",
       "      <th>2021-06-21</th>\n",
       "      <td>2.758750</td>\n",
       "    </tr>\n",
       "    <tr>\n",
       "      <th>2021-06-28</th>\n",
       "      <td>2.758750</td>\n",
       "    </tr>\n",
       "  </tbody>\n",
       "</table>\n",
       "</div>"
      ],
      "text/plain": [
       "             예측단가($)\n",
       "Date                \n",
       "2021-01-04  2.811035\n",
       "2021-01-11  2.785328\n",
       "2021-01-18  2.782324\n",
       "2021-01-25  2.740773\n",
       "2021-02-01  2.719183\n",
       "2021-02-08  2.720945\n",
       "2021-02-15  2.709912\n",
       "2021-02-22  2.712186\n",
       "2021-03-01  2.680585\n",
       "2021-03-08  2.685187\n",
       "2021-03-15  2.699346\n",
       "2021-03-22  2.653733\n",
       "2021-03-29  2.603298\n",
       "2021-04-05  2.561077\n",
       "2021-04-12  2.582700\n",
       "2021-04-19  2.516268\n",
       "2021-04-26  2.483746\n",
       "2021-05-03  2.504993\n",
       "2021-05-10  2.490117\n",
       "2021-05-17  2.579358\n",
       "2021-05-24  2.622334\n",
       "2021-05-31  2.702509\n",
       "2021-06-07  2.758750\n",
       "2021-06-14  2.758750\n",
       "2021-06-21  2.758750\n",
       "2021-06-28  2.758750"
      ]
     },
     "execution_count": 35,
     "metadata": {},
     "output_type": "execute_result"
    }
   ],
   "source": [
    "date=pd.date_range('2021-01-04','2021-06-28', freq='W-MON')\n",
    "# forecast dataframe\n",
    "forcast_df2 = pd.DataFrame({'Date':date,\n",
    "                           '예측단가($)':preds[184:]}) \n",
    "# set datatype to datetime format\n",
    "forcast_df2['Date']=pd.to_datetime(forcast_df2['Date'], infer_datetime_format=True)\n",
    "\n",
    "# set Date column as index\n",
    "forcast_df2 = forcast_df2.set_index('Date')\n",
    "\n",
    "forcast_df2"
   ]
  },
  {
   "cell_type": "code",
   "execution_count": 36,
   "metadata": {
    "scrolled": true
   },
   "outputs": [
    {
     "data": {
      "image/png": "[encoded data removed]",
      "text/plain": [
       "<Figure size 432x288 with 1 Axes>"
      ]
     },
     "metadata": {
      "needs_background": "light"
     },
     "output_type": "display_data"
    }
   ],
   "source": [
    "# Prediction Plotting\n",
    "\n",
    "orgi = plt.plot(y, color='b', label='Original')\n",
    "predi = plt.plot(forcast_df2, color='r', label='Predicted')\n",
    "plt.legend(loc='best')\n",
    "plt.title('0,1,1 MEAN Squid Prediction')\n",
    "plt.show(block=False)"
   ]
  },
  {
   "cell_type": "markdown",
   "metadata": {},
   "source": [
    "## White Shrimp"
   ]
  },
  {
   "cell_type": "code",
   "execution_count": 37,
   "metadata": {
    "scrolled": false
   },
   "outputs": [
    {
     "data": {
      "text/html": [
       "<div>\n",
       "<style scoped>\n",
       "    .dataframe tbody tr th:only-of-type {\n",
       "        vertical-align: middle;\n",
       "    }\n",
       "\n",
       "    .dataframe tbody tr th {\n",
       "        vertical-align: top;\n",
       "    }\n",
       "\n",
       "    .dataframe thead th {\n",
       "        text-align: right;\n",
       "    }\n",
       "</style>\n",
       "<table border=\"1\" class=\"dataframe\">\n",
       "  <thead>\n",
       "    <tr style=\"text-align: right;\">\n",
       "      <th></th>\n",
       "      <th>MEAN_PRICE</th>\n",
       "    </tr>\n",
       "    <tr>\n",
       "      <th>REG_DATE</th>\n",
       "      <th></th>\n",
       "    </tr>\n",
       "  </thead>\n",
       "  <tbody>\n",
       "    <tr>\n",
       "      <th>2015-12-28</th>\n",
       "      <td>9.228</td>\n",
       "    </tr>\n",
       "    <tr>\n",
       "      <th>2016-01-04</th>\n",
       "      <td>9.279</td>\n",
       "    </tr>\n",
       "    <tr>\n",
       "      <th>2016-01-11</th>\n",
       "      <td>9.846</td>\n",
       "    </tr>\n",
       "    <tr>\n",
       "      <th>2016-01-18</th>\n",
       "      <td>9.309</td>\n",
       "    </tr>\n",
       "    <tr>\n",
       "      <th>2016-01-25</th>\n",
       "      <td>8.813</td>\n",
       "    </tr>\n",
       "    <tr>\n",
       "      <th>...</th>\n",
       "      <td>...</td>\n",
       "    </tr>\n",
       "    <tr>\n",
       "      <th>2019-12-02</th>\n",
       "      <td>9.615</td>\n",
       "    </tr>\n",
       "    <tr>\n",
       "      <th>2019-12-09</th>\n",
       "      <td>9.524</td>\n",
       "    </tr>\n",
       "    <tr>\n",
       "      <th>2019-12-16</th>\n",
       "      <td>9.749</td>\n",
       "    </tr>\n",
       "    <tr>\n",
       "      <th>2019-12-23</th>\n",
       "      <td>8.864</td>\n",
       "    </tr>\n",
       "    <tr>\n",
       "      <th>2019-12-30</th>\n",
       "      <td>9.216</td>\n",
       "    </tr>\n",
       "  </tbody>\n",
       "</table>\n",
       "<p>210 rows × 1 columns</p>\n",
       "</div>"
      ],
      "text/plain": [
       "            MEAN_PRICE\n",
       "REG_DATE              \n",
       "2015-12-28       9.228\n",
       "2016-01-04       9.279\n",
       "2016-01-11       9.846\n",
       "2016-01-18       9.309\n",
       "2016-01-25       8.813\n",
       "...                ...\n",
       "2019-12-02       9.615\n",
       "2019-12-09       9.524\n",
       "2019-12-16       9.749\n",
       "2019-12-23       8.864\n",
       "2019-12-30       9.216\n",
       "\n",
       "[210 rows x 1 columns]"
      ]
     },
     "execution_count": 37,
     "metadata": {},
     "output_type": "execute_result"
    }
   ],
   "source": [
    "#var= ['REG_DATE','CTRY_1','CTRY_2','P_PURPOSE','CATEGORY_1','CATEGORY_2','P_NAME','P_IMPORT_TYPE','P_PRICE','MEAN_PRICE','DAY','M_MEAN_PRICE','IMPORT_MEAN_PRICE']\n",
    "var1= ['REG_DATE','MEAN_PRICE']\n",
    "z = white_shrimp[var1]\n",
    "z.index = z['REG_DATE']\n",
    "z.set_index('REG_DATE', inplace=True)\n",
    "z"
   ]
  },
  {
   "cell_type": "code",
   "execution_count": 38,
   "metadata": {},
   "outputs": [
    {
     "name": "stdout",
     "output_type": "stream",
     "text": [
      "Performing stepwise search to minimize aic\n",
      " ARIMA(2,1,2)(0,0,0)[0] intercept   : AIC=408.727, Time=0.31 sec\n",
      " ARIMA(0,1,0)(0,0,0)[0] intercept   : AIC=517.749, Time=0.03 sec\n",
      " ARIMA(1,1,0)(0,0,0)[0] intercept   : AIC=469.250, Time=0.02 sec\n",
      " ARIMA(0,1,1)(0,0,0)[0] intercept   : AIC=403.817, Time=0.06 sec\n",
      " ARIMA(0,1,0)(0,0,0)[0]             : AIC=515.749, Time=0.01 sec\n",
      " ARIMA(1,1,1)(0,0,0)[0] intercept   : AIC=405.093, Time=0.06 sec\n",
      " ARIMA(0,1,2)(0,0,0)[0] intercept   : AIC=405.074, Time=0.17 sec\n",
      " ARIMA(1,1,2)(0,0,0)[0] intercept   : AIC=406.749, Time=0.18 sec\n",
      " ARIMA(0,1,1)(0,0,0)[0]             : AIC=401.848, Time=0.03 sec\n",
      " ARIMA(1,1,1)(0,0,0)[0]             : AIC=403.134, Time=0.04 sec\n",
      " ARIMA(0,1,2)(0,0,0)[0]             : AIC=403.115, Time=0.04 sec\n",
      " ARIMA(1,1,0)(0,0,0)[0]             : AIC=467.250, Time=0.01 sec\n",
      " ARIMA(1,1,2)(0,0,0)[0]             : AIC=404.787, Time=0.09 sec\n",
      "\n",
      "Best model:  ARIMA(0,1,1)(0,0,0)[0]          \n",
      "Total fit time: 1.074 seconds\n"
     ]
    },
    {
     "data": {
      "text/plain": [
       "ARIMA(order=(0, 1, 1), scoring_args={}, suppress_warnings=True,\n",
       "      with_intercept=False)"
      ]
     },
     "execution_count": 38,
     "metadata": {},
     "output_type": "execute_result"
    }
   ],
   "source": [
    "# import pmdarima as pmd\n",
    "# from pmdarima import auto_arima\n",
    "auto_arima(z.MEAN_PRICE.values, seasonal=False,trace=True,supress_warnings=False)"
   ]
  },
  {
   "cell_type": "code",
   "execution_count": 39,
   "metadata": {
    "scrolled": true
   },
   "outputs": [
    {
     "name": "stdout",
     "output_type": "stream",
     "text": [
      "                             ARIMA Model Results                              \n",
      "==============================================================================\n",
      "Dep. Variable:                    D.y   No. Observations:                  209\n",
      "Model:                 ARIMA(0, 1, 1)   Log Likelihood                -198.908\n",
      "Method:                       css-mle   S.D. of innovations              0.624\n",
      "Date:                Fri, 10 Sep 2021   AIC                            403.817\n",
      "Time:                        00:56:02   BIC                            413.844\n",
      "Sample:                             1   HQIC                           407.871\n",
      "                                                                              \n",
      "==============================================================================\n",
      "                 coef    std err          z      P>|z|      [0.025      0.975]\n",
      "------------------------------------------------------------------------------\n",
      "const         -0.0006      0.004     -0.176      0.860      -0.008       0.006\n",
      "ma.L1.D.y     -0.9221      0.029    -32.305      0.000      -0.978      -0.866\n",
      "                                    Roots                                    \n",
      "=============================================================================\n",
      "                  Real          Imaginary           Modulus         Frequency\n",
      "-----------------------------------------------------------------------------\n",
      "MA.1            1.0844           +0.0000j            1.0844            0.0000\n",
      "-----------------------------------------------------------------------------\n"
     ]
    }
   ],
   "source": [
    "from statsmodels.tsa.arima_model import ARIMA\n",
    "import statsmodels.api as sm\n",
    "\n",
    "# (AR = 0, 차분 =1, MA=1) 파라미터로 ARIMA 모델을 학습한다.\n",
    "model3 = ARIMA(z.MEAN_PRICE.values, order = (0,1,1))\n",
    "model3_fit = model3.fit(trend = 'c', full_output = True, disp = True)\n",
    "print(model3_fit.summary())"
   ]
  },
  {
   "cell_type": "code",
   "execution_count": 40,
   "metadata": {},
   "outputs": [
    {
     "name": "stdout",
     "output_type": "stream",
     "text": [
      "                             ARIMA Model Results                              \n",
      "==============================================================================\n",
      "Dep. Variable:                    D.y   No. Observations:                  209\n",
      "Model:                 ARIMA(0, 1, 1)   Log Likelihood                -198.924\n",
      "Method:                       css-mle   S.D. of innovations              0.624\n",
      "Date:                Fri, 10 Sep 2021   AIC                            401.848\n",
      "Time:                        00:56:02   BIC                            408.532\n",
      "Sample:                             1   HQIC                           404.550\n",
      "                                                                              \n",
      "==============================================================================\n",
      "                 coef    std err          z      P>|z|      [0.025      0.975]\n",
      "------------------------------------------------------------------------------\n",
      "ma.L1.D.y     -0.9215      0.028    -32.349      0.000      -0.977      -0.866\n",
      "                                    Roots                                    \n",
      "=============================================================================\n",
      "                  Real          Imaginary           Modulus         Frequency\n",
      "-----------------------------------------------------------------------------\n",
      "MA.1            1.0852           +0.0000j            1.0852            0.0000\n",
      "-----------------------------------------------------------------------------\n"
     ]
    }
   ],
   "source": [
    "model3 = ARIMA(z.MEAN_PRICE.values, order = (0,1,1))\n",
    "model3_fit = model3.fit(trend = 'nc', full_output = True, disp = True)\n",
    "print(model3_fit.summary())"
   ]
  },
  {
   "cell_type": "code",
   "execution_count": 41,
   "metadata": {},
   "outputs": [
    {
     "data": {
      "image/png": "[encoded data removed]",
      "text/plain": [
       "<Figure size 432x288 with 1 Axes>"
      ]
     },
     "metadata": {
      "needs_background": "light"
     },
     "output_type": "display_data"
    }
   ],
   "source": [
    "fig = model3_fit.plot_predict()"
   ]
  },
  {
   "cell_type": "code",
   "execution_count": 42,
   "metadata": {},
   "outputs": [
    {
     "data": {
      "text/plain": [
       "<matplotlib.axes._subplots.AxesSubplot at 0x2bb30a97460>"
      ]
     },
     "execution_count": 42,
     "metadata": {},
     "output_type": "execute_result"
    },
    {
     "data": {
      "image/png": "[encoded data removed]",
      "text/plain": [
       "<Figure size 432x288 with 1 Axes>"
      ]
     },
     "metadata": {
      "needs_background": "light"
     },
     "output_type": "display_data"
    }
   ],
   "source": [
    "residuals = pd.DataFrame(model3_fit.resid)\n",
    "residuals.plot()"
   ]
  },
  {
   "cell_type": "code",
   "execution_count": 43,
   "metadata": {},
   "outputs": [
    {
     "data": {
      "text/plain": [
       "[<matplotlib.lines.Line2D at 0x2bb30a56ac0>]"
      ]
     },
     "execution_count": 43,
     "metadata": {},
     "output_type": "execute_result"
    },
    {
     "data": {
      "image/png": "[encoded data removed]",
      "text/plain": [
       "<Figure size 432x288 with 1 Axes>"
      ]
     },
     "metadata": {
      "needs_background": "light"
     },
     "output_type": "display_data"
    }
   ],
   "source": [
    "forecast_data = model3_fit.forecast(steps=455) \n",
    "\n",
    "pred = z[50:]\n",
    "\n",
    "# 마지막 5일의 예측 데이터 (2021-04-15 ~ 2021-04-19)\n",
    "pred_y = forecast_data[0].tolist()\n",
    "\n",
    "# 실제 5일의 데이터 (2021-04-15 ~ 2021-04-19)\n",
    "test_y = pred.MEAN_PRICE.values\n",
    "\n",
    "# 마지막 5일의 예측 데이터 최소값\n",
    "pred_y_lower = []\n",
    "# 마지막 5일의 예측 데이터 최대값\n",
    "pred_y_upper = []\n",
    "\n",
    "for lower_upper in forecast_data[2]:\n",
    "    lower = lower_upper[0]\n",
    "    upper = lower_upper[1]\n",
    "    pred_y_lower.append(lower)\n",
    "    pred_y_upper.append(upper)\n",
    "    \n",
    "    # 모델이 예측한 가격 그래프\n",
    "plt.plot(pred_y, color = 'gold')\n",
    "\n",
    "# 모델이 예측한 최저 가격 그래프\n",
    "plt.plot(pred_y_lower, color = 'red')\n",
    "\n",
    "# 모델이 예측한 최고 가격 그래프\n",
    "plt.plot(pred_y_upper, color = 'blue')\n",
    "\n",
    "# 실제 가격 그래프\n",
    "plt.plot(test_y, color = 'green')"
   ]
  },
  {
   "cell_type": "code",
   "execution_count": 44,
   "metadata": {},
   "outputs": [
    {
     "name": "stdout",
     "output_type": "stream",
     "text": [
      "[9.228      9.25358491 9.45324207 9.4163466  9.29090954 9.19516888\n",
      " 9.09272427 9.09276264 8.95674933 9.03225912 9.11245177 9.197451\n",
      " 9.18502331 9.19742985 9.2035866  9.22181017 9.24013554 9.29845446\n",
      " 9.28549356 9.27007716 9.28333215 9.29751229 9.28074828 9.25942614\n",
      " 9.22696628 9.27797804 9.27500217 9.26490045 9.25212247 9.28590251\n",
      " 9.30976244 9.37556237 9.35175286 9.42122521 9.40919828 9.41044544\n",
      " 9.40914861 9.29086039 9.25496196 9.3252499  9.29124449 9.28627092\n",
      " 9.26164328 9.22284658 9.23959489 9.2860546  9.34967158 9.40255034\n",
      " 9.45778782 9.44288653 9.4627581  9.5261287  9.56356194 9.51336061\n",
      " 9.45666275 9.38636522 9.44716165 9.48411388 9.43026774 9.49302935\n",
      " 9.57056226 9.55050681 9.55258586 9.60707929 9.63948252 9.63512866\n",
      " 9.71013793 9.78710785 9.856625   9.90051973 9.82028183 9.79067632\n",
      " 9.79760711 9.75738273 9.76080538 9.76874612 9.78548011 9.81533941\n",
      " 9.79365515 9.78913097 9.80787492 9.88651119 9.93959492 9.88987707\n",
      " 9.82036281 9.81099648 9.82480737 9.74062486 9.71366084 9.75535467\n",
      " 9.76835275 9.77703516 9.76314334 9.78282788 9.81046258 9.80736598\n",
      " 9.75539059 9.80997457 9.83532214 9.87437457 9.88729261 9.85894224\n",
      " 9.7347299  9.7209405  9.72220068 9.72477442 9.71427724 9.74187667\n",
      " 9.74471124 9.76992253 9.68730047 9.68045006 9.71447041 9.61430671\n",
      " 9.5949792  9.66011033 9.60297604 9.55275759 9.62488987 9.63086218\n",
      " 9.62224137 9.66538053 9.72279018 9.82230568 9.84645023 9.86422742\n",
      " 9.85549949 9.85098754 9.90991894 9.87806678 9.77408976 9.7677267\n",
      " 9.75354521 9.68766671 9.66642769 9.63508489 9.48810528 9.51728759\n",
      " 9.46351357 9.38233605 9.47560964 9.4903925  9.489577   9.56258662\n",
      " 9.58160862 9.6309965  9.56947687 9.49465823 9.38427879 9.42152982\n",
      " 9.41638774 9.3939151  9.36849772 9.4299001  9.42645529 9.41488458\n",
      " 9.45467756 9.38918102 9.40125108 9.49876869 9.49470644 9.40998266\n",
      " 9.37318193 9.40212282 9.31116729 9.39433159 9.30791091 9.2537741\n",
      " 9.30354134 9.33049229 9.36262607 9.27932104 9.26517138 9.25558468\n",
      " 9.25004595 9.27240609 9.27975034 9.33611086 9.34716633 9.38042425\n",
      " 9.40197001 9.34649459 9.3923603  9.34579975 9.40223487 9.40088246\n",
      " 9.42105829 9.33819016 9.3671304  9.31140699 9.31984973 9.32009693\n",
      " 9.27308623 9.14266354 9.12503435 9.09843058 8.97292443 9.0215813\n",
      " 8.9597019  8.98044118 8.97067637 9.01181967 8.92292813 8.96467942\n",
      " 9.00056504 9.0487793  9.08606952 9.13808919 9.11658161 9.1243829 ]\n"
     ]
    }
   ],
   "source": [
    "preds = model3_fit.predict(1, 210, typ='levels')\n",
    "print(preds)"
   ]
  },
  {
   "cell_type": "code",
   "execution_count": 45,
   "metadata": {},
   "outputs": [
    {
     "data": {
      "text/html": [
       "<div>\n",
       "<style scoped>\n",
       "    .dataframe tbody tr th:only-of-type {\n",
       "        vertical-align: middle;\n",
       "    }\n",
       "\n",
       "    .dataframe tbody tr th {\n",
       "        vertical-align: top;\n",
       "    }\n",
       "\n",
       "    .dataframe thead th {\n",
       "        text-align: right;\n",
       "    }\n",
       "</style>\n",
       "<table border=\"1\" class=\"dataframe\">\n",
       "  <thead>\n",
       "    <tr style=\"text-align: right;\">\n",
       "      <th></th>\n",
       "      <th>예측단가($)</th>\n",
       "    </tr>\n",
       "    <tr>\n",
       "      <th>Date</th>\n",
       "      <th></th>\n",
       "    </tr>\n",
       "  </thead>\n",
       "  <tbody>\n",
       "    <tr>\n",
       "      <th>2021-01-04</th>\n",
       "      <td>9.402235</td>\n",
       "    </tr>\n",
       "    <tr>\n",
       "      <th>2021-01-11</th>\n",
       "      <td>9.400882</td>\n",
       "    </tr>\n",
       "    <tr>\n",
       "      <th>2021-01-18</th>\n",
       "      <td>9.421058</td>\n",
       "    </tr>\n",
       "    <tr>\n",
       "      <th>2021-01-25</th>\n",
       "      <td>9.338190</td>\n",
       "    </tr>\n",
       "    <tr>\n",
       "      <th>2021-02-01</th>\n",
       "      <td>9.367130</td>\n",
       "    </tr>\n",
       "    <tr>\n",
       "      <th>2021-02-08</th>\n",
       "      <td>9.311407</td>\n",
       "    </tr>\n",
       "    <tr>\n",
       "      <th>2021-02-15</th>\n",
       "      <td>9.319850</td>\n",
       "    </tr>\n",
       "    <tr>\n",
       "      <th>2021-02-22</th>\n",
       "      <td>9.320097</td>\n",
       "    </tr>\n",
       "    <tr>\n",
       "      <th>2021-03-01</th>\n",
       "      <td>9.273086</td>\n",
       "    </tr>\n",
       "    <tr>\n",
       "      <th>2021-03-08</th>\n",
       "      <td>9.142664</td>\n",
       "    </tr>\n",
       "    <tr>\n",
       "      <th>2021-03-15</th>\n",
       "      <td>9.125034</td>\n",
       "    </tr>\n",
       "    <tr>\n",
       "      <th>2021-03-22</th>\n",
       "      <td>9.098431</td>\n",
       "    </tr>\n",
       "    <tr>\n",
       "      <th>2021-03-29</th>\n",
       "      <td>8.972924</td>\n",
       "    </tr>\n",
       "    <tr>\n",
       "      <th>2021-04-05</th>\n",
       "      <td>9.021581</td>\n",
       "    </tr>\n",
       "    <tr>\n",
       "      <th>2021-04-12</th>\n",
       "      <td>8.959702</td>\n",
       "    </tr>\n",
       "    <tr>\n",
       "      <th>2021-04-19</th>\n",
       "      <td>8.980441</td>\n",
       "    </tr>\n",
       "    <tr>\n",
       "      <th>2021-04-26</th>\n",
       "      <td>8.970676</td>\n",
       "    </tr>\n",
       "    <tr>\n",
       "      <th>2021-05-03</th>\n",
       "      <td>9.011820</td>\n",
       "    </tr>\n",
       "    <tr>\n",
       "      <th>2021-05-10</th>\n",
       "      <td>8.922928</td>\n",
       "    </tr>\n",
       "    <tr>\n",
       "      <th>2021-05-17</th>\n",
       "      <td>8.964679</td>\n",
       "    </tr>\n",
       "    <tr>\n",
       "      <th>2021-05-24</th>\n",
       "      <td>9.000565</td>\n",
       "    </tr>\n",
       "    <tr>\n",
       "      <th>2021-05-31</th>\n",
       "      <td>9.048779</td>\n",
       "    </tr>\n",
       "    <tr>\n",
       "      <th>2021-06-07</th>\n",
       "      <td>9.086070</td>\n",
       "    </tr>\n",
       "    <tr>\n",
       "      <th>2021-06-14</th>\n",
       "      <td>9.138089</td>\n",
       "    </tr>\n",
       "    <tr>\n",
       "      <th>2021-06-21</th>\n",
       "      <td>9.116582</td>\n",
       "    </tr>\n",
       "    <tr>\n",
       "      <th>2021-06-28</th>\n",
       "      <td>9.124383</td>\n",
       "    </tr>\n",
       "  </tbody>\n",
       "</table>\n",
       "</div>"
      ],
      "text/plain": [
       "             예측단가($)\n",
       "Date                \n",
       "2021-01-04  9.402235\n",
       "2021-01-11  9.400882\n",
       "2021-01-18  9.421058\n",
       "2021-01-25  9.338190\n",
       "2021-02-01  9.367130\n",
       "2021-02-08  9.311407\n",
       "2021-02-15  9.319850\n",
       "2021-02-22  9.320097\n",
       "2021-03-01  9.273086\n",
       "2021-03-08  9.142664\n",
       "2021-03-15  9.125034\n",
       "2021-03-22  9.098431\n",
       "2021-03-29  8.972924\n",
       "2021-04-05  9.021581\n",
       "2021-04-12  8.959702\n",
       "2021-04-19  8.980441\n",
       "2021-04-26  8.970676\n",
       "2021-05-03  9.011820\n",
       "2021-05-10  8.922928\n",
       "2021-05-17  8.964679\n",
       "2021-05-24  9.000565\n",
       "2021-05-31  9.048779\n",
       "2021-06-07  9.086070\n",
       "2021-06-14  9.138089\n",
       "2021-06-21  9.116582\n",
       "2021-06-28  9.124383"
      ]
     },
     "execution_count": 45,
     "metadata": {},
     "output_type": "execute_result"
    }
   ],
   "source": [
    "date=pd.date_range('2021-01-04','2021-06-28', freq='W-MON')\n",
    "# forecast dataframe\n",
    "forcast_df3 = pd.DataFrame({'Date':date,\n",
    "                           '예측단가($)':preds[184:]}) \n",
    "# set datatype to datetime format\n",
    "forcast_df3['Date']=pd.to_datetime(forcast_df3['Date'], infer_datetime_format=True)\n",
    "\n",
    "# set Date column as index\n",
    "forcast_df3 = forcast_df3.set_index('Date')\n",
    "\n",
    "forcast_df3"
   ]
  },
  {
   "cell_type": "code",
   "execution_count": 46,
   "metadata": {},
   "outputs": [
    {
     "data": {
      "image/png": "[encoded data removed]",
      "text/plain": [
       "<Figure size 432x288 with 1 Axes>"
      ]
     },
     "metadata": {
      "needs_background": "light"
     },
     "output_type": "display_data"
    }
   ],
   "source": [
    "# Prediction Plotting\n",
    "\n",
    "orgi = plt.plot(z, color='b', label='Original')\n",
    "predi = plt.plot(forcast_df3, color='r', label='Predicted')\n",
    "plt.legend(loc='best')\n",
    "plt.title('0,1,1 MEAN_PRICE White shrimp Prediction')\n",
    "plt.show(block=False)"
   ]
  },
  {
   "cell_type": "code",
   "execution_count": 55,
   "metadata": {},
   "outputs": [],
   "source": [
    "# 소수점 셋째자리까지 반올림\n",
    "forcast_df1 = round(forcast_df1, 3)\n",
    "forcast_df2 = round(forcast_df2, 3)\n",
    "forcast_df3 = round(forcast_df3, 3)"
   ]
  },
  {
   "cell_type": "code",
   "execution_count": 56,
   "metadata": {},
   "outputs": [],
   "source": [
    "from openpyxl import load_workbook\n",
    "wb = load_workbook('수산Biz_평가데이터.xlsx')\n",
    "ws = wb.active\n",
    "for i in range(1, 27):\n",
    "    ws.cell(i+1,4).value = forcast_df2['예측단가($)'][i-1]\n",
    "    ws.cell(i+1,9).value = forcast_df1['예측단가($)'][i-1]\n",
    "    ws.cell(i+1,14).value = forcast_df3['예측단가($)'][i-1]\n",
    "wb.save('test.xlsx')"
   ]
  },
  {
   "cell_type": "code",
   "execution_count": null,
   "metadata": {},
   "outputs": [],
   "source": []
  }
 ],
 "metadata": {
  "kernelspec": {
   "display_name": "Python 3",
   "language": "python",
   "name": "python3"
  },
  "language_info": {
   "codemirror_mode": {
    "name": "ipython",
    "version": 3
   },
   "file_extension": ".py",
   "mimetype": "text/x-python",
   "name": "python",
   "nbconvert_exporter": "python",
   "pygments_lexer": "ipython3",
   "version": "3.8.3"
  }
 },
 "nbformat": 4,
 "nbformat_minor": 4
}
